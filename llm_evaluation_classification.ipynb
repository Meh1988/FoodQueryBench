{
 "cells": [
  {
   "cell_type": "markdown",
   "id": "96804ae9",
   "metadata": {},
   "source": [
    "# LLM Evaluation for Classification Tasks\n",
    "\n",
    "This notebook implements the full evaluation pipeline for the six identified classification tasks. The process is as follows:\n",
    "\n",
    "1.  **Setup**: Install libraries and initialize the OpenAI API client.\n",
    "2.  **Helper Functions**: Define core functions for making API calls and saving results. The API call function is designed to handle both modern Chat models (`gpt-4o`) and older Completion models (`gpt-5-pro`).\n",
    "3.  **Task-by-Task Evaluation**: For each of the six classification files, a dedicated cell runs the full evaluation across all specified models (`gpt-3.5-turbo`, `gpt-4o`, `gpt-5-pro`).\n",
    "4.  **Result Caching**: The results for each task are saved to a separate JSON file (e.g., `results_task_1.json`), preventing data loss and avoiding the need to re-run expensive API calls.\n",
    "5.  **Final Analysis**: After all tasks are evaluated, a final cell aggregates the results from all saved files to produce a summary table and visualization, comparing the performance of each model across all tasks."
   ]
  },
  {
   "cell_type": "markdown",
   "id": "535de815",
   "metadata": {},
   "source": [
    "### 1. Environment Setup"
   ]
  },
  {
   "cell_type": "code",
   "execution_count": null,
   "id": "a505fa2d",
   "metadata": {},
   "outputs": [],
   "source": [
    "# %pip install openai python-dotenv scikit-learn matplotlib tqdm pandas\n",
    "%pip install json"
   ]
  },
  {
   "cell_type": "markdown",
   "id": "28876bae",
   "metadata": {},
   "source": [
    "### 2. Imports, API Initialization, and Constants"
   ]
  },
  {
   "cell_type": "code",
   "execution_count": 1,
   "id": "2e9e0230",
   "metadata": {},
   "outputs": [],
   "source": [
    "import json\n",
    "import os\n",
    "import time\n",
    "from openai import OpenAI\n",
    "from dotenv import load_dotenv\n",
    "from sklearn.metrics import classification_report, f1_score, accuracy_score\n",
    "import matplotlib.pyplot as plt\n",
    "from tqdm.notebook import tqdm\n",
    "import pandas as pd\n",
    "import random\n",
    "\n",
    "# --- API and Model Configuration ---\n",
    "load_dotenv()\n",
    "client = OpenAI(api_key=os.getenv(\"OPENAI_API_KEY\"))\n",
    "\n",
    "# The models we will compare\n",
    "MODELS_TO_TEST = [\"gpt-3.5-turbo\", \"gpt-4o\"]\n",
    "\n",
    "# The single prompt template we will use\n",
    "JSON_INSTRUCTION = (\n",
    "    \"Your response MUST be a JSON object with a single key 'prediction' \"\n",
    "    \"whose value is one of the following exact strings: {labels}.\"\n",
    ")\n",
    "\n",
    "# Ensure a directory for results exists\n",
    "os.makedirs('results', exist_ok=True)"
   ]
  },
  {
   "cell_type": "markdown",
   "id": "fdbdff14",
   "metadata": {},
   "source": [
    "### 3. Core Helper Functions"
   ]
  },
  {
   "cell_type": "code",
   "execution_count": 2,
   "id": "b41d4392",
   "metadata": {},
   "outputs": [],
   "source": [
    "def load_json_file(file_path):\n",
    "    \"\"\"Loads a JSON file safely.\"\"\"\n",
    "    try:\n",
    "        with open(file_path, 'r', encoding='utf-8') as f:\n",
    "            return json.load(f)\n",
    "    except FileNotFoundError:\n",
    "        print(f\"Error: The file '{file_path}' was not found.\")\n",
    "        return None\n",
    "\n",
    "def save_results(results, file_path):\n",
    "    \"\"\"Saves a list of dictionaries to a JSON file.\"\"\"\n",
    "    with open(file_path, 'w', encoding='utf-8') as f:\n",
    "        json.dump(results, f, indent=2)\n",
    "    print(f\"Successfully saved {len(results)} results to {file_path}\")\n",
    "\n",
    "def get_prompt(instruction_input, valid_labels):\n",
    "    \"\"\"Builds the single, simple prompt for the LLM.\"\"\"\n",
    "    labels_str = str(valid_labels)\n",
    "    return f\"{instruction_input}\\n\\n{JSON_INSTRUCTION.format(labels=labels_str)}\"\n",
    "\n",
    "def get_llm_prediction(client, model_name, prompt):\n",
    "    \"\"\"Calls the correct API endpoint based on the model and gets a prediction.\"\"\"\n",
    "    retries = 3\n",
    "    delay = 5  # Start with a 5-second delay for robustness\n",
    "\n",
    "    for attempt in range(retries):\n",
    "        try:\n",
    "            content = None\n",
    "            if model_name == \"gpt-5-pro\":\n",
    "                # Use the older Completions API for this model\n",
    "                response = client.completions.create(\n",
    "                    model=model_name,\n",
    "                    prompt=prompt,\n",
    "                    max_tokens=150,\n",
    "                    temperature=0\n",
    "                )\n",
    "                content = response.choices[0].text\n",
    "            else:\n",
    "                # Use the modern Chat Completions API for other models\n",
    "                response = client.chat.completions.create(\n",
    "                    model=model_name,\n",
    "                    messages=[{\"role\": \"user\", \"content\": prompt}],\n",
    "                    response_format={\"type\": \"json_object\"},\n",
    "                    temperature=0\n",
    "                )\n",
    "                content = response.choices[0].message.content\n",
    "            \n",
    "            # Parse the content to extract the prediction\n",
    "            # Find the start of the JSON object\n",
    "            json_start_index = content.find('{')\n",
    "            if json_start_index == -1:\n",
    "                return \"parsing_error\"\n",
    "            \n",
    "            json_content = content[json_start_index:]\n",
    "            prediction_json = json.loads(json_content)\n",
    "            return prediction_json.get(\"prediction\", \"parsing_error\")\n",
    "        \n",
    "        except Exception as e:\n",
    "            print(f\"API Error ({model_name}): {e}. Retrying... (Attempt {attempt + 1}/{retries})\")\n",
    "            time.sleep(delay)\n",
    "            delay *= 2  # Exponential backoff\n",
    "            \n",
    "    return \"api_error\" # Failed after all retries"
   ]
  },
  {
   "cell_type": "markdown",
   "id": "4a72b816",
   "metadata": {},
   "source": [
    "### 4. Main Evaluation Function\n",
    "\n",
    "This function encapsulates the logic for running an evaluation on a given data file. It handles loading data, iterating through models and instructions, calling the LLM (while managing a simple file-based cache to resume progress), and saving the final results."
   ]
  },
  {
   "cell_type": "code",
   "execution_count": 10,
   "id": "bc97d209",
   "metadata": {},
   "outputs": [],
   "source": [
    "def run_evaluation(client, data_file_path, valid_labels, unique_id_keys, sample_percentage, label_map=None):\n",
    "    \"\"\"\n",
    "    Runs the full evaluation pipeline for a single data file.\n",
    "    - sample_count: If provided, runs on a random sample of this many instructions.\n",
    "    - label_map: An optional dictionary to map messy instruction_outputs to clean labels.\n",
    "    \"\"\"\n",
    "    \n",
    "    task_name = os.path.basename(data_file_path).split('.')[0]\n",
    "    results_path = f\"results/results_{task_name}.json\"\n",
    "    \n",
    "    print(f\"\\n{'='*20} Starting Evaluation for: {task_name} {'='*20}\")\n",
    "    \n",
    "    # --- Load all instructions from the data file ---\n",
    "    all_instructions = load_json_file(data_file_path)\n",
    "    if not all_instructions:\n",
    "        return\n",
    "\n",
    "    sample_size = int(len(all_instructions) * sample_percentage)\n",
    "    # Randomly sample 10% of the instructions. \n",
    "    random.seed(42)\n",
    "    instructions = random.sample(all_instructions, sample_size)\n",
    "    print(f\"Original dataset size: {len(all_instructions)}. Using a random sample of {len(instructions)} instructions (10%).\")\n",
    "    \n",
    "    # --- Load existing results (for resuming) ---\n",
    "    all_results = []\n",
    "    processed_keys = set()\n",
    "    if os.path.exists(results_path):\n",
    "        all_results = load_json_file(results_path)\n",
    "        for res in all_results:\n",
    "            key_tuple = (res['model_name'],) + tuple(res[k] for k in unique_id_keys)\n",
    "            processed_keys.add(key_tuple)\n",
    "        print(f\"Loaded {len(all_results)} existing results. Resuming...\")\n",
    "\n",
    "    api_calls_made = 0\n",
    "\n",
    "    # --- Main evaluation loop ---\n",
    "    for model_name in MODELS_TO_TEST:\n",
    "        print(f\"\\n--- Processing Model: {model_name} ---\")\n",
    "        \n",
    "        for instruction in tqdm(instructions, desc=f\"Model: {model_name}\"):\n",
    "            id_values = [instruction.get(k) for k in unique_id_keys]\n",
    "            current_key = (model_name,) + tuple(id_values)\n",
    "\n",
    "            if current_key in processed_keys:\n",
    "                continue\n",
    "            \n",
    "            prompt = get_prompt(instruction['instruction_input'], valid_labels)\n",
    "            prediction = get_llm_prediction(client, model_name, prompt)\n",
    "            api_calls_made += 1\n",
    "            \n",
    "            # --- START: New Label Mapping Logic ---\n",
    "            true_label_raw = instruction['instruction_output']\n",
    "            true_label = true_label_raw # Default if no map\n",
    "            \n",
    "            if label_map:\n",
    "                # Find the correct simple label\n",
    "                mapped_label = \"Other/Unknown\" # default\n",
    "                for key_prefix, simple_label in label_map.items():\n",
    "                    if true_label_raw.startswith(key_prefix):\n",
    "                        mapped_label = simple_label\n",
    "                        break\n",
    "                true_label = mapped_label\n",
    "            # --- END: New Label Mapping Logic ---\n",
    "            \n",
    "            result_record = {\n",
    "                \"model_name\": model_name,\n",
    "                \"full_prompt_sent\": prompt,\n",
    "                \"llm_prediction\": prediction,\n",
    "                \"true_label\": true_label,\n",
    "                \"is_correct\": prediction == true_label,\n",
    "                \"timestamp\": time.time()\n",
    "            }\n",
    "            for key, value in zip(unique_id_keys, id_values):\n",
    "                result_record[key] = value\n",
    "                \n",
    "            all_results.append(result_record)\n",
    "            processed_keys.add(current_key)\n",
    "            \n",
    "            if len(all_results) % 100 == 0:\n",
    "                save_results(all_results, results_path)\n",
    "\n",
    "    save_results(all_results, results_path)\n",
    "    print(f\"\\nTotal new API calls made in this run: {api_calls_made}\")\n",
    "    print(f\"\\n{'='*20} Evaluation COMPLETE for: {task_name} {'='*20}\")"
   ]
  },
  {
   "cell_type": "markdown",
   "id": "c38f3c95",
   "metadata": {},
   "source": [
    "### 5. Evaluation: Task 1 - Preference Simulation"
   ]
  },
  {
   "cell_type": "code",
   "execution_count": 11,
   "id": "4eb6a366",
   "metadata": {},
   "outputs": [
    {
     "name": "stdout",
     "output_type": "stream",
     "text": [
      "\n",
      "==================== Starting Evaluation for: task_1_preference_simulation 1 ====================\n",
      "Original dataset size: 85399. Using a random sample of 4269 instructions (10%).\n",
      "\n",
      "--- Processing Model: gpt-3.5-turbo ---\n"
     ]
    },
    {
     "data": {
      "application/vnd.jupyter.widget-view+json": {
       "model_id": "9be8aa020bed41628d4356c1525d9ff2",
       "version_major": 2,
       "version_minor": 0
      },
      "text/plain": [
       "Model: gpt-3.5-turbo:   0%|          | 0/4269 [00:00<?, ?it/s]"
      ]
     },
     "metadata": {},
     "output_type": "display_data"
    },
    {
     "name": "stdout",
     "output_type": "stream",
     "text": [
      "Successfully saved 100 results to results/results_task_1_preference_simulation 1.json\n",
      "Successfully saved 200 results to results/results_task_1_preference_simulation 1.json\n",
      "Successfully saved 300 results to results/results_task_1_preference_simulation 1.json\n",
      "Successfully saved 400 results to results/results_task_1_preference_simulation 1.json\n",
      "Successfully saved 500 results to results/results_task_1_preference_simulation 1.json\n",
      "Successfully saved 600 results to results/results_task_1_preference_simulation 1.json\n",
      "Successfully saved 700 results to results/results_task_1_preference_simulation 1.json\n",
      "Successfully saved 800 results to results/results_task_1_preference_simulation 1.json\n",
      "Successfully saved 900 results to results/results_task_1_preference_simulation 1.json\n",
      "Successfully saved 1000 results to results/results_task_1_preference_simulation 1.json\n",
      "Successfully saved 1100 results to results/results_task_1_preference_simulation 1.json\n",
      "Successfully saved 1200 results to results/results_task_1_preference_simulation 1.json\n",
      "Successfully saved 1300 results to results/results_task_1_preference_simulation 1.json\n",
      "Successfully saved 1400 results to results/results_task_1_preference_simulation 1.json\n",
      "Successfully saved 1500 results to results/results_task_1_preference_simulation 1.json\n",
      "Successfully saved 1600 results to results/results_task_1_preference_simulation 1.json\n",
      "Successfully saved 1700 results to results/results_task_1_preference_simulation 1.json\n",
      "Successfully saved 1800 results to results/results_task_1_preference_simulation 1.json\n",
      "Successfully saved 1900 results to results/results_task_1_preference_simulation 1.json\n",
      "Successfully saved 2000 results to results/results_task_1_preference_simulation 1.json\n",
      "Successfully saved 2100 results to results/results_task_1_preference_simulation 1.json\n",
      "Successfully saved 2200 results to results/results_task_1_preference_simulation 1.json\n",
      "Successfully saved 2300 results to results/results_task_1_preference_simulation 1.json\n",
      "Successfully saved 2400 results to results/results_task_1_preference_simulation 1.json\n",
      "Successfully saved 2500 results to results/results_task_1_preference_simulation 1.json\n",
      "Successfully saved 2600 results to results/results_task_1_preference_simulation 1.json\n",
      "Successfully saved 2700 results to results/results_task_1_preference_simulation 1.json\n",
      "Successfully saved 2800 results to results/results_task_1_preference_simulation 1.json\n",
      "Successfully saved 2900 results to results/results_task_1_preference_simulation 1.json\n",
      "Successfully saved 3000 results to results/results_task_1_preference_simulation 1.json\n",
      "Successfully saved 3100 results to results/results_task_1_preference_simulation 1.json\n",
      "Successfully saved 3200 results to results/results_task_1_preference_simulation 1.json\n",
      "Successfully saved 3300 results to results/results_task_1_preference_simulation 1.json\n",
      "Successfully saved 3400 results to results/results_task_1_preference_simulation 1.json\n",
      "Successfully saved 3500 results to results/results_task_1_preference_simulation 1.json\n",
      "Successfully saved 3600 results to results/results_task_1_preference_simulation 1.json\n",
      "Successfully saved 3700 results to results/results_task_1_preference_simulation 1.json\n",
      "Successfully saved 3800 results to results/results_task_1_preference_simulation 1.json\n",
      "Successfully saved 3900 results to results/results_task_1_preference_simulation 1.json\n",
      "Successfully saved 4000 results to results/results_task_1_preference_simulation 1.json\n",
      "Successfully saved 4100 results to results/results_task_1_preference_simulation 1.json\n",
      "Successfully saved 4200 results to results/results_task_1_preference_simulation 1.json\n",
      "\n",
      "--- Processing Model: gpt-4o ---\n"
     ]
    },
    {
     "data": {
      "application/vnd.jupyter.widget-view+json": {
       "model_id": "9b190373f6ed492d9a989e63ea3cd97d",
       "version_major": 2,
       "version_minor": 0
      },
      "text/plain": [
       "Model: gpt-4o:   0%|          | 0/4269 [00:00<?, ?it/s]"
      ]
     },
     "metadata": {},
     "output_type": "display_data"
    },
    {
     "name": "stdout",
     "output_type": "stream",
     "text": [
      "Successfully saved 4300 results to results/results_task_1_preference_simulation 1.json\n",
      "Successfully saved 4400 results to results/results_task_1_preference_simulation 1.json\n",
      "Successfully saved 4500 results to results/results_task_1_preference_simulation 1.json\n",
      "Successfully saved 4600 results to results/results_task_1_preference_simulation 1.json\n",
      "Successfully saved 4700 results to results/results_task_1_preference_simulation 1.json\n",
      "Successfully saved 4800 results to results/results_task_1_preference_simulation 1.json\n",
      "Successfully saved 4900 results to results/results_task_1_preference_simulation 1.json\n",
      "Successfully saved 5000 results to results/results_task_1_preference_simulation 1.json\n",
      "Successfully saved 5100 results to results/results_task_1_preference_simulation 1.json\n",
      "Successfully saved 5200 results to results/results_task_1_preference_simulation 1.json\n",
      "Successfully saved 5300 results to results/results_task_1_preference_simulation 1.json\n",
      "Successfully saved 5400 results to results/results_task_1_preference_simulation 1.json\n",
      "Successfully saved 5500 results to results/results_task_1_preference_simulation 1.json\n",
      "Successfully saved 5600 results to results/results_task_1_preference_simulation 1.json\n",
      "Successfully saved 5700 results to results/results_task_1_preference_simulation 1.json\n",
      "Successfully saved 5800 results to results/results_task_1_preference_simulation 1.json\n",
      "Successfully saved 5900 results to results/results_task_1_preference_simulation 1.json\n",
      "Successfully saved 6000 results to results/results_task_1_preference_simulation 1.json\n",
      "Successfully saved 6100 results to results/results_task_1_preference_simulation 1.json\n",
      "Successfully saved 6200 results to results/results_task_1_preference_simulation 1.json\n",
      "Successfully saved 6300 results to results/results_task_1_preference_simulation 1.json\n",
      "Successfully saved 6400 results to results/results_task_1_preference_simulation 1.json\n",
      "Successfully saved 6500 results to results/results_task_1_preference_simulation 1.json\n",
      "Successfully saved 6600 results to results/results_task_1_preference_simulation 1.json\n",
      "Successfully saved 6700 results to results/results_task_1_preference_simulation 1.json\n",
      "Successfully saved 6800 results to results/results_task_1_preference_simulation 1.json\n",
      "Successfully saved 6900 results to results/results_task_1_preference_simulation 1.json\n",
      "Successfully saved 7000 results to results/results_task_1_preference_simulation 1.json\n",
      "Successfully saved 7100 results to results/results_task_1_preference_simulation 1.json\n",
      "Successfully saved 7200 results to results/results_task_1_preference_simulation 1.json\n",
      "Successfully saved 7300 results to results/results_task_1_preference_simulation 1.json\n",
      "Successfully saved 7400 results to results/results_task_1_preference_simulation 1.json\n",
      "Successfully saved 7500 results to results/results_task_1_preference_simulation 1.json\n",
      "Successfully saved 7600 results to results/results_task_1_preference_simulation 1.json\n",
      "Successfully saved 7700 results to results/results_task_1_preference_simulation 1.json\n",
      "Successfully saved 7800 results to results/results_task_1_preference_simulation 1.json\n",
      "Successfully saved 7900 results to results/results_task_1_preference_simulation 1.json\n",
      "Successfully saved 8000 results to results/results_task_1_preference_simulation 1.json\n",
      "Successfully saved 8100 results to results/results_task_1_preference_simulation 1.json\n",
      "Successfully saved 8200 results to results/results_task_1_preference_simulation 1.json\n",
      "Successfully saved 8300 results to results/results_task_1_preference_simulation 1.json\n",
      "Successfully saved 8400 results to results/results_task_1_preference_simulation 1.json\n",
      "\n",
      "--- Processing Model: gpt-5-pro ---\n"
     ]
    },
    {
     "data": {
      "application/vnd.jupyter.widget-view+json": {
       "model_id": "37fdf0455ed84c8580ed4a758c65256f",
       "version_major": 2,
       "version_minor": 0
      },
      "text/plain": [
       "Model: gpt-5-pro:   0%|          | 0/4269 [00:00<?, ?it/s]"
      ]
     },
     "metadata": {},
     "output_type": "display_data"
    },
    {
     "name": "stdout",
     "output_type": "stream",
     "text": [
      "API Error (gpt-5-pro): Error code: 404 - {'error': {'message': 'This model is not supported in the v1/completions endpoint.', 'type': 'invalid_request_error', 'param': 'model', 'code': None}}. Retrying... (Attempt 1/3)\n",
      "API Error (gpt-5-pro): Error code: 404 - {'error': {'message': 'This model is not supported in the v1/completions endpoint.', 'type': 'invalid_request_error', 'param': 'model', 'code': None}}. Retrying... (Attempt 2/3)\n",
      "API Error (gpt-5-pro): Error code: 404 - {'error': {'message': 'This model is not supported in the v1/completions endpoint.', 'type': 'invalid_request_error', 'param': 'model', 'code': None}}. Retrying... (Attempt 3/3)\n",
      "API Error (gpt-5-pro): Error code: 404 - {'error': {'message': 'This model is not supported in the v1/completions endpoint.', 'type': 'invalid_request_error', 'param': 'model', 'code': None}}. Retrying... (Attempt 1/3)\n",
      "API Error (gpt-5-pro): Error code: 404 - {'error': {'message': 'This model is not supported in the v1/completions endpoint.', 'type': 'invalid_request_error', 'param': 'model', 'code': None}}. Retrying... (Attempt 2/3)\n",
      "API Error (gpt-5-pro): Error code: 404 - {'error': {'message': 'This model is not supported in the v1/completions endpoint.', 'type': 'invalid_request_error', 'param': 'model', 'code': None}}. Retrying... (Attempt 3/3)\n",
      "API Error (gpt-5-pro): Error code: 404 - {'error': {'message': 'This model is not supported in the v1/completions endpoint.', 'type': 'invalid_request_error', 'param': 'model', 'code': None}}. Retrying... (Attempt 1/3)\n",
      "API Error (gpt-5-pro): Error code: 404 - {'error': {'message': 'This model is not supported in the v1/completions endpoint.', 'type': 'invalid_request_error', 'param': 'model', 'code': None}}. Retrying... (Attempt 2/3)\n",
      "API Error (gpt-5-pro): Error code: 404 - {'error': {'message': 'This model is not supported in the v1/completions endpoint.', 'type': 'invalid_request_error', 'param': 'model', 'code': None}}. Retrying... (Attempt 3/3)\n",
      "API Error (gpt-5-pro): Error code: 404 - {'error': {'message': 'This model is not supported in the v1/completions endpoint.', 'type': 'invalid_request_error', 'param': 'model', 'code': None}}. Retrying... (Attempt 1/3)\n",
      "API Error (gpt-5-pro): Error code: 404 - {'error': {'message': 'This model is not supported in the v1/completions endpoint.', 'type': 'invalid_request_error', 'param': 'model', 'code': None}}. Retrying... (Attempt 2/3)\n",
      "API Error (gpt-5-pro): Error code: 404 - {'error': {'message': 'This model is not supported in the v1/completions endpoint.', 'type': 'invalid_request_error', 'param': 'model', 'code': None}}. Retrying... (Attempt 3/3)\n",
      "API Error (gpt-5-pro): Error code: 404 - {'error': {'message': 'This model is not supported in the v1/completions endpoint.', 'type': 'invalid_request_error', 'param': 'model', 'code': None}}. Retrying... (Attempt 1/3)\n",
      "API Error (gpt-5-pro): Error code: 404 - {'error': {'message': 'This model is not supported in the v1/completions endpoint.', 'type': 'invalid_request_error', 'param': 'model', 'code': None}}. Retrying... (Attempt 2/3)\n"
     ]
    },
    {
     "ename": "KeyboardInterrupt",
     "evalue": "",
     "output_type": "error",
     "traceback": [
      "\u001b[31m---------------------------------------------------------------------------\u001b[39m",
      "\u001b[31mNotFoundError\u001b[39m                             Traceback (most recent call last)",
      "\u001b[36mCell\u001b[39m\u001b[36m \u001b[39m\u001b[32mIn[3]\u001b[39m\u001b[32m, line 31\u001b[39m, in \u001b[36mget_llm_prediction\u001b[39m\u001b[34m(client, model_name, prompt)\u001b[39m\n\u001b[32m     29\u001b[39m \u001b[38;5;28;01mif\u001b[39;00m model_name == \u001b[33m\"\u001b[39m\u001b[33mgpt-5-pro\u001b[39m\u001b[33m\"\u001b[39m:\n\u001b[32m     30\u001b[39m     \u001b[38;5;66;03m# Use the older Completions API for this model\u001b[39;00m\n\u001b[32m---> \u001b[39m\u001b[32m31\u001b[39m     response = \u001b[43mclient\u001b[49m\u001b[43m.\u001b[49m\u001b[43mcompletions\u001b[49m\u001b[43m.\u001b[49m\u001b[43mcreate\u001b[49m\u001b[43m(\u001b[49m\n\u001b[32m     32\u001b[39m \u001b[43m        \u001b[49m\u001b[43mmodel\u001b[49m\u001b[43m=\u001b[49m\u001b[43mmodel_name\u001b[49m\u001b[43m,\u001b[49m\n\u001b[32m     33\u001b[39m \u001b[43m        \u001b[49m\u001b[43mprompt\u001b[49m\u001b[43m=\u001b[49m\u001b[43mprompt\u001b[49m\u001b[43m,\u001b[49m\n\u001b[32m     34\u001b[39m \u001b[43m        \u001b[49m\u001b[43mmax_tokens\u001b[49m\u001b[43m=\u001b[49m\u001b[32;43m150\u001b[39;49m\u001b[43m,\u001b[49m\n\u001b[32m     35\u001b[39m \u001b[43m        \u001b[49m\u001b[43mtemperature\u001b[49m\u001b[43m=\u001b[49m\u001b[32;43m0\u001b[39;49m\n\u001b[32m     36\u001b[39m \u001b[43m    \u001b[49m\u001b[43m)\u001b[49m\n\u001b[32m     37\u001b[39m     content = response.choices[\u001b[32m0\u001b[39m].text\n",
      "\u001b[36mFile \u001b[39m\u001b[32mc:\\Users\\amollaza24\\OneDrive - University of Oulu and Oamk\\HEALTH-AWARE_FOOD_RECOMMENDATION\\healthfood_env\\Lib\\site-packages\\openai\\_utils\\_utils.py:286\u001b[39m, in \u001b[36mrequired_args.<locals>.inner.<locals>.wrapper\u001b[39m\u001b[34m(*args, **kwargs)\u001b[39m\n\u001b[32m    285\u001b[39m     \u001b[38;5;28;01mraise\u001b[39;00m \u001b[38;5;167;01mTypeError\u001b[39;00m(msg)\n\u001b[32m--> \u001b[39m\u001b[32m286\u001b[39m \u001b[38;5;28;01mreturn\u001b[39;00m \u001b[43mfunc\u001b[49m\u001b[43m(\u001b[49m\u001b[43m*\u001b[49m\u001b[43margs\u001b[49m\u001b[43m,\u001b[49m\u001b[43m \u001b[49m\u001b[43m*\u001b[49m\u001b[43m*\u001b[49m\u001b[43mkwargs\u001b[49m\u001b[43m)\u001b[49m\n",
      "\u001b[36mFile \u001b[39m\u001b[32mc:\\Users\\amollaza24\\OneDrive - University of Oulu and Oamk\\HEALTH-AWARE_FOOD_RECOMMENDATION\\healthfood_env\\Lib\\site-packages\\openai\\resources\\completions.py:541\u001b[39m, in \u001b[36mCompletions.create\u001b[39m\u001b[34m(self, model, prompt, best_of, echo, frequency_penalty, logit_bias, logprobs, max_tokens, n, presence_penalty, seed, stop, stream, stream_options, suffix, temperature, top_p, user, extra_headers, extra_query, extra_body, timeout)\u001b[39m\n\u001b[32m    512\u001b[39m \u001b[38;5;129m@required_args\u001b[39m([\u001b[33m\"\u001b[39m\u001b[33mmodel\u001b[39m\u001b[33m\"\u001b[39m, \u001b[33m\"\u001b[39m\u001b[33mprompt\u001b[39m\u001b[33m\"\u001b[39m], [\u001b[33m\"\u001b[39m\u001b[33mmodel\u001b[39m\u001b[33m\"\u001b[39m, \u001b[33m\"\u001b[39m\u001b[33mprompt\u001b[39m\u001b[33m\"\u001b[39m, \u001b[33m\"\u001b[39m\u001b[33mstream\u001b[39m\u001b[33m\"\u001b[39m])\n\u001b[32m    513\u001b[39m \u001b[38;5;28;01mdef\u001b[39;00m\u001b[38;5;250m \u001b[39m\u001b[34mcreate\u001b[39m(\n\u001b[32m    514\u001b[39m     \u001b[38;5;28mself\u001b[39m,\n\u001b[32m   (...)\u001b[39m\u001b[32m    539\u001b[39m     timeout: \u001b[38;5;28mfloat\u001b[39m | httpx.Timeout | \u001b[38;5;28;01mNone\u001b[39;00m | NotGiven = not_given,\n\u001b[32m    540\u001b[39m ) -> Completion | Stream[Completion]:\n\u001b[32m--> \u001b[39m\u001b[32m541\u001b[39m     \u001b[38;5;28;01mreturn\u001b[39;00m \u001b[38;5;28;43mself\u001b[39;49m\u001b[43m.\u001b[49m\u001b[43m_post\u001b[49m\u001b[43m(\u001b[49m\n\u001b[32m    542\u001b[39m \u001b[43m        \u001b[49m\u001b[33;43m\"\u001b[39;49m\u001b[33;43m/completions\u001b[39;49m\u001b[33;43m\"\u001b[39;49m\u001b[43m,\u001b[49m\n\u001b[32m    543\u001b[39m \u001b[43m        \u001b[49m\u001b[43mbody\u001b[49m\u001b[43m=\u001b[49m\u001b[43mmaybe_transform\u001b[49m\u001b[43m(\u001b[49m\n\u001b[32m    544\u001b[39m \u001b[43m            \u001b[49m\u001b[43m{\u001b[49m\n\u001b[32m    545\u001b[39m \u001b[43m                \u001b[49m\u001b[33;43m\"\u001b[39;49m\u001b[33;43mmodel\u001b[39;49m\u001b[33;43m\"\u001b[39;49m\u001b[43m:\u001b[49m\u001b[43m \u001b[49m\u001b[43mmodel\u001b[49m\u001b[43m,\u001b[49m\n\u001b[32m    546\u001b[39m \u001b[43m                \u001b[49m\u001b[33;43m\"\u001b[39;49m\u001b[33;43mprompt\u001b[39;49m\u001b[33;43m\"\u001b[39;49m\u001b[43m:\u001b[49m\u001b[43m \u001b[49m\u001b[43mprompt\u001b[49m\u001b[43m,\u001b[49m\n\u001b[32m    547\u001b[39m \u001b[43m                \u001b[49m\u001b[33;43m\"\u001b[39;49m\u001b[33;43mbest_of\u001b[39;49m\u001b[33;43m\"\u001b[39;49m\u001b[43m:\u001b[49m\u001b[43m \u001b[49m\u001b[43mbest_of\u001b[49m\u001b[43m,\u001b[49m\n\u001b[32m    548\u001b[39m \u001b[43m                \u001b[49m\u001b[33;43m\"\u001b[39;49m\u001b[33;43mecho\u001b[39;49m\u001b[33;43m\"\u001b[39;49m\u001b[43m:\u001b[49m\u001b[43m \u001b[49m\u001b[43mecho\u001b[49m\u001b[43m,\u001b[49m\n\u001b[32m    549\u001b[39m \u001b[43m                \u001b[49m\u001b[33;43m\"\u001b[39;49m\u001b[33;43mfrequency_penalty\u001b[39;49m\u001b[33;43m\"\u001b[39;49m\u001b[43m:\u001b[49m\u001b[43m \u001b[49m\u001b[43mfrequency_penalty\u001b[49m\u001b[43m,\u001b[49m\n\u001b[32m    550\u001b[39m \u001b[43m                \u001b[49m\u001b[33;43m\"\u001b[39;49m\u001b[33;43mlogit_bias\u001b[39;49m\u001b[33;43m\"\u001b[39;49m\u001b[43m:\u001b[49m\u001b[43m \u001b[49m\u001b[43mlogit_bias\u001b[49m\u001b[43m,\u001b[49m\n\u001b[32m    551\u001b[39m \u001b[43m                \u001b[49m\u001b[33;43m\"\u001b[39;49m\u001b[33;43mlogprobs\u001b[39;49m\u001b[33;43m\"\u001b[39;49m\u001b[43m:\u001b[49m\u001b[43m \u001b[49m\u001b[43mlogprobs\u001b[49m\u001b[43m,\u001b[49m\n\u001b[32m    552\u001b[39m \u001b[43m                \u001b[49m\u001b[33;43m\"\u001b[39;49m\u001b[33;43mmax_tokens\u001b[39;49m\u001b[33;43m\"\u001b[39;49m\u001b[43m:\u001b[49m\u001b[43m \u001b[49m\u001b[43mmax_tokens\u001b[49m\u001b[43m,\u001b[49m\n\u001b[32m    553\u001b[39m \u001b[43m                \u001b[49m\u001b[33;43m\"\u001b[39;49m\u001b[33;43mn\u001b[39;49m\u001b[33;43m\"\u001b[39;49m\u001b[43m:\u001b[49m\u001b[43m \u001b[49m\u001b[43mn\u001b[49m\u001b[43m,\u001b[49m\n\u001b[32m    554\u001b[39m \u001b[43m                \u001b[49m\u001b[33;43m\"\u001b[39;49m\u001b[33;43mpresence_penalty\u001b[39;49m\u001b[33;43m\"\u001b[39;49m\u001b[43m:\u001b[49m\u001b[43m \u001b[49m\u001b[43mpresence_penalty\u001b[49m\u001b[43m,\u001b[49m\n\u001b[32m    555\u001b[39m \u001b[43m                \u001b[49m\u001b[33;43m\"\u001b[39;49m\u001b[33;43mseed\u001b[39;49m\u001b[33;43m\"\u001b[39;49m\u001b[43m:\u001b[49m\u001b[43m \u001b[49m\u001b[43mseed\u001b[49m\u001b[43m,\u001b[49m\n\u001b[32m    556\u001b[39m \u001b[43m                \u001b[49m\u001b[33;43m\"\u001b[39;49m\u001b[33;43mstop\u001b[39;49m\u001b[33;43m\"\u001b[39;49m\u001b[43m:\u001b[49m\u001b[43m \u001b[49m\u001b[43mstop\u001b[49m\u001b[43m,\u001b[49m\n\u001b[32m    557\u001b[39m \u001b[43m                \u001b[49m\u001b[33;43m\"\u001b[39;49m\u001b[33;43mstream\u001b[39;49m\u001b[33;43m\"\u001b[39;49m\u001b[43m:\u001b[49m\u001b[43m \u001b[49m\u001b[43mstream\u001b[49m\u001b[43m,\u001b[49m\n\u001b[32m    558\u001b[39m \u001b[43m                \u001b[49m\u001b[33;43m\"\u001b[39;49m\u001b[33;43mstream_options\u001b[39;49m\u001b[33;43m\"\u001b[39;49m\u001b[43m:\u001b[49m\u001b[43m \u001b[49m\u001b[43mstream_options\u001b[49m\u001b[43m,\u001b[49m\n\u001b[32m    559\u001b[39m \u001b[43m                \u001b[49m\u001b[33;43m\"\u001b[39;49m\u001b[33;43msuffix\u001b[39;49m\u001b[33;43m\"\u001b[39;49m\u001b[43m:\u001b[49m\u001b[43m \u001b[49m\u001b[43msuffix\u001b[49m\u001b[43m,\u001b[49m\n\u001b[32m    560\u001b[39m \u001b[43m                \u001b[49m\u001b[33;43m\"\u001b[39;49m\u001b[33;43mtemperature\u001b[39;49m\u001b[33;43m\"\u001b[39;49m\u001b[43m:\u001b[49m\u001b[43m \u001b[49m\u001b[43mtemperature\u001b[49m\u001b[43m,\u001b[49m\n\u001b[32m    561\u001b[39m \u001b[43m                \u001b[49m\u001b[33;43m\"\u001b[39;49m\u001b[33;43mtop_p\u001b[39;49m\u001b[33;43m\"\u001b[39;49m\u001b[43m:\u001b[49m\u001b[43m \u001b[49m\u001b[43mtop_p\u001b[49m\u001b[43m,\u001b[49m\n\u001b[32m    562\u001b[39m \u001b[43m                \u001b[49m\u001b[33;43m\"\u001b[39;49m\u001b[33;43muser\u001b[39;49m\u001b[33;43m\"\u001b[39;49m\u001b[43m:\u001b[49m\u001b[43m \u001b[49m\u001b[43muser\u001b[49m\u001b[43m,\u001b[49m\n\u001b[32m    563\u001b[39m \u001b[43m            \u001b[49m\u001b[43m}\u001b[49m\u001b[43m,\u001b[49m\n\u001b[32m    564\u001b[39m \u001b[43m            \u001b[49m\u001b[43mcompletion_create_params\u001b[49m\u001b[43m.\u001b[49m\u001b[43mCompletionCreateParamsStreaming\u001b[49m\n\u001b[32m    565\u001b[39m \u001b[43m            \u001b[49m\u001b[38;5;28;43;01mif\u001b[39;49;00m\u001b[43m \u001b[49m\u001b[43mstream\u001b[49m\n\u001b[32m    566\u001b[39m \u001b[43m            \u001b[49m\u001b[38;5;28;43;01melse\u001b[39;49;00m\u001b[43m \u001b[49m\u001b[43mcompletion_create_params\u001b[49m\u001b[43m.\u001b[49m\u001b[43mCompletionCreateParamsNonStreaming\u001b[49m\u001b[43m,\u001b[49m\n\u001b[32m    567\u001b[39m \u001b[43m        \u001b[49m\u001b[43m)\u001b[49m\u001b[43m,\u001b[49m\n\u001b[32m    568\u001b[39m \u001b[43m        \u001b[49m\u001b[43moptions\u001b[49m\u001b[43m=\u001b[49m\u001b[43mmake_request_options\u001b[49m\u001b[43m(\u001b[49m\n\u001b[32m    569\u001b[39m \u001b[43m            \u001b[49m\u001b[43mextra_headers\u001b[49m\u001b[43m=\u001b[49m\u001b[43mextra_headers\u001b[49m\u001b[43m,\u001b[49m\u001b[43m \u001b[49m\u001b[43mextra_query\u001b[49m\u001b[43m=\u001b[49m\u001b[43mextra_query\u001b[49m\u001b[43m,\u001b[49m\u001b[43m \u001b[49m\u001b[43mextra_body\u001b[49m\u001b[43m=\u001b[49m\u001b[43mextra_body\u001b[49m\u001b[43m,\u001b[49m\u001b[43m \u001b[49m\u001b[43mtimeout\u001b[49m\u001b[43m=\u001b[49m\u001b[43mtimeout\u001b[49m\n\u001b[32m    570\u001b[39m \u001b[43m        \u001b[49m\u001b[43m)\u001b[49m\u001b[43m,\u001b[49m\n\u001b[32m    571\u001b[39m \u001b[43m        \u001b[49m\u001b[43mcast_to\u001b[49m\u001b[43m=\u001b[49m\u001b[43mCompletion\u001b[49m\u001b[43m,\u001b[49m\n\u001b[32m    572\u001b[39m \u001b[43m        \u001b[49m\u001b[43mstream\u001b[49m\u001b[43m=\u001b[49m\u001b[43mstream\u001b[49m\u001b[43m \u001b[49m\u001b[38;5;129;43;01mor\u001b[39;49;00m\u001b[43m \u001b[49m\u001b[38;5;28;43;01mFalse\u001b[39;49;00m\u001b[43m,\u001b[49m\n\u001b[32m    573\u001b[39m \u001b[43m        \u001b[49m\u001b[43mstream_cls\u001b[49m\u001b[43m=\u001b[49m\u001b[43mStream\u001b[49m\u001b[43m[\u001b[49m\u001b[43mCompletion\u001b[49m\u001b[43m]\u001b[49m\u001b[43m,\u001b[49m\n\u001b[32m    574\u001b[39m \u001b[43m    \u001b[49m\u001b[43m)\u001b[49m\n",
      "\u001b[36mFile \u001b[39m\u001b[32mc:\\Users\\amollaza24\\OneDrive - University of Oulu and Oamk\\HEALTH-AWARE_FOOD_RECOMMENDATION\\healthfood_env\\Lib\\site-packages\\openai\\_base_client.py:1259\u001b[39m, in \u001b[36mSyncAPIClient.post\u001b[39m\u001b[34m(self, path, cast_to, body, options, files, stream, stream_cls)\u001b[39m\n\u001b[32m   1256\u001b[39m opts = FinalRequestOptions.construct(\n\u001b[32m   1257\u001b[39m     method=\u001b[33m\"\u001b[39m\u001b[33mpost\u001b[39m\u001b[33m\"\u001b[39m, url=path, json_data=body, files=to_httpx_files(files), **options\n\u001b[32m   1258\u001b[39m )\n\u001b[32m-> \u001b[39m\u001b[32m1259\u001b[39m \u001b[38;5;28;01mreturn\u001b[39;00m cast(ResponseT, \u001b[38;5;28;43mself\u001b[39;49m\u001b[43m.\u001b[49m\u001b[43mrequest\u001b[49m\u001b[43m(\u001b[49m\u001b[43mcast_to\u001b[49m\u001b[43m,\u001b[49m\u001b[43m \u001b[49m\u001b[43mopts\u001b[49m\u001b[43m,\u001b[49m\u001b[43m \u001b[49m\u001b[43mstream\u001b[49m\u001b[43m=\u001b[49m\u001b[43mstream\u001b[49m\u001b[43m,\u001b[49m\u001b[43m \u001b[49m\u001b[43mstream_cls\u001b[49m\u001b[43m=\u001b[49m\u001b[43mstream_cls\u001b[49m\u001b[43m)\u001b[49m)\n",
      "\u001b[36mFile \u001b[39m\u001b[32mc:\\Users\\amollaza24\\OneDrive - University of Oulu and Oamk\\HEALTH-AWARE_FOOD_RECOMMENDATION\\healthfood_env\\Lib\\site-packages\\openai\\_base_client.py:1047\u001b[39m, in \u001b[36mSyncAPIClient.request\u001b[39m\u001b[34m(self, cast_to, options, stream, stream_cls)\u001b[39m\n\u001b[32m   1046\u001b[39m     log.debug(\u001b[33m\"\u001b[39m\u001b[33mRe-raising status error\u001b[39m\u001b[33m\"\u001b[39m)\n\u001b[32m-> \u001b[39m\u001b[32m1047\u001b[39m     \u001b[38;5;28;01mraise\u001b[39;00m \u001b[38;5;28mself\u001b[39m._make_status_error_from_response(err.response) \u001b[38;5;28;01mfrom\u001b[39;00m\u001b[38;5;250m \u001b[39m\u001b[38;5;28;01mNone\u001b[39;00m\n\u001b[32m   1049\u001b[39m \u001b[38;5;28;01mbreak\u001b[39;00m\n",
      "\u001b[31mNotFoundError\u001b[39m: Error code: 404 - {'error': {'message': 'This model is not supported in the v1/completions endpoint.', 'type': 'invalid_request_error', 'param': 'model', 'code': None}}",
      "\nDuring handling of the above exception, another exception occurred:\n",
      "\u001b[31mKeyboardInterrupt\u001b[39m                         Traceback (most recent call last)",
      "\u001b[36mCell\u001b[39m\u001b[36m \u001b[39m\u001b[32mIn[11]\u001b[39m\u001b[32m, line 7\u001b[39m\n\u001b[32m      5\u001b[39m sample_percentage = \u001b[32m0.05\u001b[39m\n\u001b[32m      6\u001b[39m \u001b[38;5;66;03m# --- Run Evaluation ---\u001b[39;00m\n\u001b[32m----> \u001b[39m\u001b[32m7\u001b[39m \u001b[43mrun_evaluation\u001b[49m\u001b[43m(\u001b[49m\u001b[43mclient\u001b[49m\u001b[43m,\u001b[49m\u001b[43m \u001b[49m\u001b[43mDATA_FILE_PATH_1\u001b[49m\u001b[43m,\u001b[49m\u001b[43m \u001b[49m\u001b[43mVALID_LABELS_1\u001b[49m\u001b[43m,\u001b[49m\u001b[43m \u001b[49m\u001b[43mUNIQUE_ID_KEYS_1\u001b[49m\u001b[43m,\u001b[49m\u001b[43m \u001b[49m\u001b[43msample_percentage\u001b[49m\u001b[43m)\u001b[49m\n",
      "\u001b[36mCell\u001b[39m\u001b[36m \u001b[39m\u001b[32mIn[10]\u001b[39m\u001b[32m, line 47\u001b[39m, in \u001b[36mrun_evaluation\u001b[39m\u001b[34m(client, data_file_path, valid_labels, unique_id_keys, sample_percentage)\u001b[39m\n\u001b[32m     45\u001b[39m \u001b[38;5;66;03m# Prepare and get prediction\u001b[39;00m\n\u001b[32m     46\u001b[39m prompt = get_prompt(instruction[\u001b[33m'\u001b[39m\u001b[33minstruction_input\u001b[39m\u001b[33m'\u001b[39m], valid_labels)\n\u001b[32m---> \u001b[39m\u001b[32m47\u001b[39m prediction = \u001b[43mget_llm_prediction\u001b[49m\u001b[43m(\u001b[49m\u001b[43mclient\u001b[49m\u001b[43m,\u001b[49m\u001b[43m \u001b[49m\u001b[43mmodel_name\u001b[49m\u001b[43m,\u001b[49m\u001b[43m \u001b[49m\u001b[43mprompt\u001b[49m\u001b[43m)\u001b[49m\n\u001b[32m     48\u001b[39m true_label = instruction[\u001b[33m'\u001b[39m\u001b[33minstruction_output\u001b[39m\u001b[33m'\u001b[39m]\n\u001b[32m     50\u001b[39m \u001b[38;5;66;03m# Build and store the result record\u001b[39;00m\n",
      "\u001b[36mCell\u001b[39m\u001b[36m \u001b[39m\u001b[32mIn[3]\u001b[39m\u001b[32m, line 60\u001b[39m, in \u001b[36mget_llm_prediction\u001b[39m\u001b[34m(client, model_name, prompt)\u001b[39m\n\u001b[32m     58\u001b[39m     \u001b[38;5;28;01mexcept\u001b[39;00m \u001b[38;5;167;01mException\u001b[39;00m \u001b[38;5;28;01mas\u001b[39;00m e:\n\u001b[32m     59\u001b[39m         \u001b[38;5;28mprint\u001b[39m(\u001b[33mf\u001b[39m\u001b[33m\"\u001b[39m\u001b[33mAPI Error (\u001b[39m\u001b[38;5;132;01m{\u001b[39;00mmodel_name\u001b[38;5;132;01m}\u001b[39;00m\u001b[33m): \u001b[39m\u001b[38;5;132;01m{\u001b[39;00me\u001b[38;5;132;01m}\u001b[39;00m\u001b[33m. Retrying... (Attempt \u001b[39m\u001b[38;5;132;01m{\u001b[39;00mattempt\u001b[38;5;250m \u001b[39m+\u001b[38;5;250m \u001b[39m\u001b[32m1\u001b[39m\u001b[38;5;132;01m}\u001b[39;00m\u001b[33m/\u001b[39m\u001b[38;5;132;01m{\u001b[39;00mretries\u001b[38;5;132;01m}\u001b[39;00m\u001b[33m)\u001b[39m\u001b[33m\"\u001b[39m)\n\u001b[32m---> \u001b[39m\u001b[32m60\u001b[39m         \u001b[43mtime\u001b[49m\u001b[43m.\u001b[49m\u001b[43msleep\u001b[49m\u001b[43m(\u001b[49m\u001b[43mdelay\u001b[49m\u001b[43m)\u001b[49m\n\u001b[32m     61\u001b[39m         delay *= \u001b[32m2\u001b[39m  \u001b[38;5;66;03m# Exponential backoff\u001b[39;00m\n\u001b[32m     63\u001b[39m \u001b[38;5;28;01mreturn\u001b[39;00m \u001b[33m\"\u001b[39m\u001b[33mapi_error\u001b[39m\u001b[33m\"\u001b[39m\n",
      "\u001b[31mKeyboardInterrupt\u001b[39m: "
     ]
    }
   ],
   "source": [
    "# --- Config for this file ---\n",
    "DATA_FILE_PATH_1 = 'data/task_1_preference_simulation 1.json'\n",
    "VALID_LABELS_1 = [\"Strongly Recommend\", \"Recommend\", \"Neutral\", \"Do Not Recommend\"]\n",
    "UNIQUE_ID_KEYS_1 = ['user_id', 'target_recipe_id']\n",
    "sample_percentage = 0.05\n",
    "# --- Run Evaluation ---\n",
    "run_evaluation(client, DATA_FILE_PATH_1, VALID_LABELS_1, UNIQUE_ID_KEYS_1, sample_percentage)"
   ]
  },
  {
   "cell_type": "markdown",
   "id": "f2f2b074",
   "metadata": {},
   "source": [
    "### 6. Evaluation: Task 3 - Tag-Based Preference"
   ]
  },
  {
   "cell_type": "code",
   "execution_count": 13,
   "id": "2b1b1987",
   "metadata": {},
   "outputs": [
    {
     "name": "stdout",
     "output_type": "stream",
     "text": [
      "\n",
      "==================== Starting Evaluation for: task_3_tag_based_preference 1 ====================\n",
      "Original dataset size: 16449. Using a random sample of 1644 instructions (10%).\n",
      "\n",
      "--- Processing Model: gpt-3.5-turbo ---\n"
     ]
    },
    {
     "data": {
      "application/vnd.jupyter.widget-view+json": {
       "model_id": "bda352dded8c4d5ebf77eed13e9fbcf5",
       "version_major": 2,
       "version_minor": 0
      },
      "text/plain": [
       "Model: gpt-3.5-turbo:   0%|          | 0/1644 [00:00<?, ?it/s]"
      ]
     },
     "metadata": {},
     "output_type": "display_data"
    },
    {
     "name": "stdout",
     "output_type": "stream",
     "text": [
      "Successfully saved 100 results to results/results_task_3_tag_based_preference 1.json\n",
      "Successfully saved 200 results to results/results_task_3_tag_based_preference 1.json\n",
      "Successfully saved 300 results to results/results_task_3_tag_based_preference 1.json\n",
      "Successfully saved 400 results to results/results_task_3_tag_based_preference 1.json\n",
      "Successfully saved 500 results to results/results_task_3_tag_based_preference 1.json\n",
      "Successfully saved 600 results to results/results_task_3_tag_based_preference 1.json\n",
      "Successfully saved 700 results to results/results_task_3_tag_based_preference 1.json\n",
      "Successfully saved 800 results to results/results_task_3_tag_based_preference 1.json\n",
      "Successfully saved 900 results to results/results_task_3_tag_based_preference 1.json\n",
      "Successfully saved 1000 results to results/results_task_3_tag_based_preference 1.json\n",
      "Successfully saved 1100 results to results/results_task_3_tag_based_preference 1.json\n",
      "Successfully saved 1200 results to results/results_task_3_tag_based_preference 1.json\n",
      "Successfully saved 1300 results to results/results_task_3_tag_based_preference 1.json\n",
      "Successfully saved 1400 results to results/results_task_3_tag_based_preference 1.json\n",
      "Successfully saved 1500 results to results/results_task_3_tag_based_preference 1.json\n",
      "Successfully saved 1600 results to results/results_task_3_tag_based_preference 1.json\n",
      "\n",
      "--- Processing Model: gpt-4o ---\n"
     ]
    },
    {
     "data": {
      "application/vnd.jupyter.widget-view+json": {
       "model_id": "c39208abe7ba4d58870d45e7abc079bc",
       "version_major": 2,
       "version_minor": 0
      },
      "text/plain": [
       "Model: gpt-4o:   0%|          | 0/1644 [00:00<?, ?it/s]"
      ]
     },
     "metadata": {},
     "output_type": "display_data"
    },
    {
     "name": "stdout",
     "output_type": "stream",
     "text": [
      "Successfully saved 1700 results to results/results_task_3_tag_based_preference 1.json\n",
      "Successfully saved 1800 results to results/results_task_3_tag_based_preference 1.json\n",
      "Successfully saved 1900 results to results/results_task_3_tag_based_preference 1.json\n",
      "Successfully saved 2000 results to results/results_task_3_tag_based_preference 1.json\n",
      "Successfully saved 2100 results to results/results_task_3_tag_based_preference 1.json\n",
      "Successfully saved 2200 results to results/results_task_3_tag_based_preference 1.json\n",
      "Successfully saved 2300 results to results/results_task_3_tag_based_preference 1.json\n",
      "Successfully saved 2400 results to results/results_task_3_tag_based_preference 1.json\n",
      "Successfully saved 2500 results to results/results_task_3_tag_based_preference 1.json\n",
      "Successfully saved 2600 results to results/results_task_3_tag_based_preference 1.json\n",
      "Successfully saved 2700 results to results/results_task_3_tag_based_preference 1.json\n",
      "Successfully saved 2800 results to results/results_task_3_tag_based_preference 1.json\n",
      "Successfully saved 2900 results to results/results_task_3_tag_based_preference 1.json\n",
      "Successfully saved 3000 results to results/results_task_3_tag_based_preference 1.json\n",
      "Successfully saved 3100 results to results/results_task_3_tag_based_preference 1.json\n",
      "Successfully saved 3200 results to results/results_task_3_tag_based_preference 1.json\n",
      "\n",
      "--- Processing Model: gpt-5-pro ---\n"
     ]
    },
    {
     "data": {
      "application/vnd.jupyter.widget-view+json": {
       "model_id": "8d1057e3ec3644c3ba55ff5a34444aaf",
       "version_major": 2,
       "version_minor": 0
      },
      "text/plain": [
       "Model: gpt-5-pro:   0%|          | 0/1644 [00:00<?, ?it/s]"
      ]
     },
     "metadata": {},
     "output_type": "display_data"
    },
    {
     "name": "stdout",
     "output_type": "stream",
     "text": [
      "API Error (gpt-5-pro): Error code: 404 - {'error': {'message': 'This model is not supported in the v1/completions endpoint.', 'type': 'invalid_request_error', 'param': 'model', 'code': None}}. Retrying... (Attempt 1/3)\n",
      "API Error (gpt-5-pro): Error code: 404 - {'error': {'message': 'This model is not supported in the v1/completions endpoint.', 'type': 'invalid_request_error', 'param': 'model', 'code': None}}. Retrying... (Attempt 2/3)\n",
      "API Error (gpt-5-pro): Error code: 404 - {'error': {'message': 'This model is not supported in the v1/completions endpoint.', 'type': 'invalid_request_error', 'param': 'model', 'code': None}}. Retrying... (Attempt 3/3)\n",
      "API Error (gpt-5-pro): Error code: 404 - {'error': {'message': 'This model is not supported in the v1/completions endpoint.', 'type': 'invalid_request_error', 'param': 'model', 'code': None}}. Retrying... (Attempt 1/3)\n"
     ]
    },
    {
     "ename": "KeyboardInterrupt",
     "evalue": "",
     "output_type": "error",
     "traceback": [
      "\u001b[31m---------------------------------------------------------------------------\u001b[39m",
      "\u001b[31mNotFoundError\u001b[39m                             Traceback (most recent call last)",
      "\u001b[36mCell\u001b[39m\u001b[36m \u001b[39m\u001b[32mIn[3]\u001b[39m\u001b[32m, line 31\u001b[39m, in \u001b[36mget_llm_prediction\u001b[39m\u001b[34m(client, model_name, prompt)\u001b[39m\n\u001b[32m     29\u001b[39m \u001b[38;5;28;01mif\u001b[39;00m model_name == \u001b[33m\"\u001b[39m\u001b[33mgpt-5-pro\u001b[39m\u001b[33m\"\u001b[39m:\n\u001b[32m     30\u001b[39m     \u001b[38;5;66;03m# Use the older Completions API for this model\u001b[39;00m\n\u001b[32m---> \u001b[39m\u001b[32m31\u001b[39m     response = \u001b[43mclient\u001b[49m\u001b[43m.\u001b[49m\u001b[43mcompletions\u001b[49m\u001b[43m.\u001b[49m\u001b[43mcreate\u001b[49m\u001b[43m(\u001b[49m\n\u001b[32m     32\u001b[39m \u001b[43m        \u001b[49m\u001b[43mmodel\u001b[49m\u001b[43m=\u001b[49m\u001b[43mmodel_name\u001b[49m\u001b[43m,\u001b[49m\n\u001b[32m     33\u001b[39m \u001b[43m        \u001b[49m\u001b[43mprompt\u001b[49m\u001b[43m=\u001b[49m\u001b[43mprompt\u001b[49m\u001b[43m,\u001b[49m\n\u001b[32m     34\u001b[39m \u001b[43m        \u001b[49m\u001b[43mmax_tokens\u001b[49m\u001b[43m=\u001b[49m\u001b[32;43m150\u001b[39;49m\u001b[43m,\u001b[49m\n\u001b[32m     35\u001b[39m \u001b[43m        \u001b[49m\u001b[43mtemperature\u001b[49m\u001b[43m=\u001b[49m\u001b[32;43m0\u001b[39;49m\n\u001b[32m     36\u001b[39m \u001b[43m    \u001b[49m\u001b[43m)\u001b[49m\n\u001b[32m     37\u001b[39m     content = response.choices[\u001b[32m0\u001b[39m].text\n",
      "\u001b[36mFile \u001b[39m\u001b[32mc:\\Users\\amollaza24\\OneDrive - University of Oulu and Oamk\\HEALTH-AWARE_FOOD_RECOMMENDATION\\healthfood_env\\Lib\\site-packages\\openai\\_utils\\_utils.py:286\u001b[39m, in \u001b[36mrequired_args.<locals>.inner.<locals>.wrapper\u001b[39m\u001b[34m(*args, **kwargs)\u001b[39m\n\u001b[32m    285\u001b[39m     \u001b[38;5;28;01mraise\u001b[39;00m \u001b[38;5;167;01mTypeError\u001b[39;00m(msg)\n\u001b[32m--> \u001b[39m\u001b[32m286\u001b[39m \u001b[38;5;28;01mreturn\u001b[39;00m \u001b[43mfunc\u001b[49m\u001b[43m(\u001b[49m\u001b[43m*\u001b[49m\u001b[43margs\u001b[49m\u001b[43m,\u001b[49m\u001b[43m \u001b[49m\u001b[43m*\u001b[49m\u001b[43m*\u001b[49m\u001b[43mkwargs\u001b[49m\u001b[43m)\u001b[49m\n",
      "\u001b[36mFile \u001b[39m\u001b[32mc:\\Users\\amollaza24\\OneDrive - University of Oulu and Oamk\\HEALTH-AWARE_FOOD_RECOMMENDATION\\healthfood_env\\Lib\\site-packages\\openai\\resources\\completions.py:541\u001b[39m, in \u001b[36mCompletions.create\u001b[39m\u001b[34m(self, model, prompt, best_of, echo, frequency_penalty, logit_bias, logprobs, max_tokens, n, presence_penalty, seed, stop, stream, stream_options, suffix, temperature, top_p, user, extra_headers, extra_query, extra_body, timeout)\u001b[39m\n\u001b[32m    512\u001b[39m \u001b[38;5;129m@required_args\u001b[39m([\u001b[33m\"\u001b[39m\u001b[33mmodel\u001b[39m\u001b[33m\"\u001b[39m, \u001b[33m\"\u001b[39m\u001b[33mprompt\u001b[39m\u001b[33m\"\u001b[39m], [\u001b[33m\"\u001b[39m\u001b[33mmodel\u001b[39m\u001b[33m\"\u001b[39m, \u001b[33m\"\u001b[39m\u001b[33mprompt\u001b[39m\u001b[33m\"\u001b[39m, \u001b[33m\"\u001b[39m\u001b[33mstream\u001b[39m\u001b[33m\"\u001b[39m])\n\u001b[32m    513\u001b[39m \u001b[38;5;28;01mdef\u001b[39;00m\u001b[38;5;250m \u001b[39m\u001b[34mcreate\u001b[39m(\n\u001b[32m    514\u001b[39m     \u001b[38;5;28mself\u001b[39m,\n\u001b[32m   (...)\u001b[39m\u001b[32m    539\u001b[39m     timeout: \u001b[38;5;28mfloat\u001b[39m | httpx.Timeout | \u001b[38;5;28;01mNone\u001b[39;00m | NotGiven = not_given,\n\u001b[32m    540\u001b[39m ) -> Completion | Stream[Completion]:\n\u001b[32m--> \u001b[39m\u001b[32m541\u001b[39m     \u001b[38;5;28;01mreturn\u001b[39;00m \u001b[38;5;28;43mself\u001b[39;49m\u001b[43m.\u001b[49m\u001b[43m_post\u001b[49m\u001b[43m(\u001b[49m\n\u001b[32m    542\u001b[39m \u001b[43m        \u001b[49m\u001b[33;43m\"\u001b[39;49m\u001b[33;43m/completions\u001b[39;49m\u001b[33;43m\"\u001b[39;49m\u001b[43m,\u001b[49m\n\u001b[32m    543\u001b[39m \u001b[43m        \u001b[49m\u001b[43mbody\u001b[49m\u001b[43m=\u001b[49m\u001b[43mmaybe_transform\u001b[49m\u001b[43m(\u001b[49m\n\u001b[32m    544\u001b[39m \u001b[43m            \u001b[49m\u001b[43m{\u001b[49m\n\u001b[32m    545\u001b[39m \u001b[43m                \u001b[49m\u001b[33;43m\"\u001b[39;49m\u001b[33;43mmodel\u001b[39;49m\u001b[33;43m\"\u001b[39;49m\u001b[43m:\u001b[49m\u001b[43m \u001b[49m\u001b[43mmodel\u001b[49m\u001b[43m,\u001b[49m\n\u001b[32m    546\u001b[39m \u001b[43m                \u001b[49m\u001b[33;43m\"\u001b[39;49m\u001b[33;43mprompt\u001b[39;49m\u001b[33;43m\"\u001b[39;49m\u001b[43m:\u001b[49m\u001b[43m \u001b[49m\u001b[43mprompt\u001b[49m\u001b[43m,\u001b[49m\n\u001b[32m    547\u001b[39m \u001b[43m                \u001b[49m\u001b[33;43m\"\u001b[39;49m\u001b[33;43mbest_of\u001b[39;49m\u001b[33;43m\"\u001b[39;49m\u001b[43m:\u001b[49m\u001b[43m \u001b[49m\u001b[43mbest_of\u001b[49m\u001b[43m,\u001b[49m\n\u001b[32m    548\u001b[39m \u001b[43m                \u001b[49m\u001b[33;43m\"\u001b[39;49m\u001b[33;43mecho\u001b[39;49m\u001b[33;43m\"\u001b[39;49m\u001b[43m:\u001b[49m\u001b[43m \u001b[49m\u001b[43mecho\u001b[49m\u001b[43m,\u001b[49m\n\u001b[32m    549\u001b[39m \u001b[43m                \u001b[49m\u001b[33;43m\"\u001b[39;49m\u001b[33;43mfrequency_penalty\u001b[39;49m\u001b[33;43m\"\u001b[39;49m\u001b[43m:\u001b[49m\u001b[43m \u001b[49m\u001b[43mfrequency_penalty\u001b[49m\u001b[43m,\u001b[49m\n\u001b[32m    550\u001b[39m \u001b[43m                \u001b[49m\u001b[33;43m\"\u001b[39;49m\u001b[33;43mlogit_bias\u001b[39;49m\u001b[33;43m\"\u001b[39;49m\u001b[43m:\u001b[49m\u001b[43m \u001b[49m\u001b[43mlogit_bias\u001b[49m\u001b[43m,\u001b[49m\n\u001b[32m    551\u001b[39m \u001b[43m                \u001b[49m\u001b[33;43m\"\u001b[39;49m\u001b[33;43mlogprobs\u001b[39;49m\u001b[33;43m\"\u001b[39;49m\u001b[43m:\u001b[49m\u001b[43m \u001b[49m\u001b[43mlogprobs\u001b[49m\u001b[43m,\u001b[49m\n\u001b[32m    552\u001b[39m \u001b[43m                \u001b[49m\u001b[33;43m\"\u001b[39;49m\u001b[33;43mmax_tokens\u001b[39;49m\u001b[33;43m\"\u001b[39;49m\u001b[43m:\u001b[49m\u001b[43m \u001b[49m\u001b[43mmax_tokens\u001b[49m\u001b[43m,\u001b[49m\n\u001b[32m    553\u001b[39m \u001b[43m                \u001b[49m\u001b[33;43m\"\u001b[39;49m\u001b[33;43mn\u001b[39;49m\u001b[33;43m\"\u001b[39;49m\u001b[43m:\u001b[49m\u001b[43m \u001b[49m\u001b[43mn\u001b[49m\u001b[43m,\u001b[49m\n\u001b[32m    554\u001b[39m \u001b[43m                \u001b[49m\u001b[33;43m\"\u001b[39;49m\u001b[33;43mpresence_penalty\u001b[39;49m\u001b[33;43m\"\u001b[39;49m\u001b[43m:\u001b[49m\u001b[43m \u001b[49m\u001b[43mpresence_penalty\u001b[49m\u001b[43m,\u001b[49m\n\u001b[32m    555\u001b[39m \u001b[43m                \u001b[49m\u001b[33;43m\"\u001b[39;49m\u001b[33;43mseed\u001b[39;49m\u001b[33;43m\"\u001b[39;49m\u001b[43m:\u001b[49m\u001b[43m \u001b[49m\u001b[43mseed\u001b[49m\u001b[43m,\u001b[49m\n\u001b[32m    556\u001b[39m \u001b[43m                \u001b[49m\u001b[33;43m\"\u001b[39;49m\u001b[33;43mstop\u001b[39;49m\u001b[33;43m\"\u001b[39;49m\u001b[43m:\u001b[49m\u001b[43m \u001b[49m\u001b[43mstop\u001b[49m\u001b[43m,\u001b[49m\n\u001b[32m    557\u001b[39m \u001b[43m                \u001b[49m\u001b[33;43m\"\u001b[39;49m\u001b[33;43mstream\u001b[39;49m\u001b[33;43m\"\u001b[39;49m\u001b[43m:\u001b[49m\u001b[43m \u001b[49m\u001b[43mstream\u001b[49m\u001b[43m,\u001b[49m\n\u001b[32m    558\u001b[39m \u001b[43m                \u001b[49m\u001b[33;43m\"\u001b[39;49m\u001b[33;43mstream_options\u001b[39;49m\u001b[33;43m\"\u001b[39;49m\u001b[43m:\u001b[49m\u001b[43m \u001b[49m\u001b[43mstream_options\u001b[49m\u001b[43m,\u001b[49m\n\u001b[32m    559\u001b[39m \u001b[43m                \u001b[49m\u001b[33;43m\"\u001b[39;49m\u001b[33;43msuffix\u001b[39;49m\u001b[33;43m\"\u001b[39;49m\u001b[43m:\u001b[49m\u001b[43m \u001b[49m\u001b[43msuffix\u001b[49m\u001b[43m,\u001b[49m\n\u001b[32m    560\u001b[39m \u001b[43m                \u001b[49m\u001b[33;43m\"\u001b[39;49m\u001b[33;43mtemperature\u001b[39;49m\u001b[33;43m\"\u001b[39;49m\u001b[43m:\u001b[49m\u001b[43m \u001b[49m\u001b[43mtemperature\u001b[49m\u001b[43m,\u001b[49m\n\u001b[32m    561\u001b[39m \u001b[43m                \u001b[49m\u001b[33;43m\"\u001b[39;49m\u001b[33;43mtop_p\u001b[39;49m\u001b[33;43m\"\u001b[39;49m\u001b[43m:\u001b[49m\u001b[43m \u001b[49m\u001b[43mtop_p\u001b[49m\u001b[43m,\u001b[49m\n\u001b[32m    562\u001b[39m \u001b[43m                \u001b[49m\u001b[33;43m\"\u001b[39;49m\u001b[33;43muser\u001b[39;49m\u001b[33;43m\"\u001b[39;49m\u001b[43m:\u001b[49m\u001b[43m \u001b[49m\u001b[43muser\u001b[49m\u001b[43m,\u001b[49m\n\u001b[32m    563\u001b[39m \u001b[43m            \u001b[49m\u001b[43m}\u001b[49m\u001b[43m,\u001b[49m\n\u001b[32m    564\u001b[39m \u001b[43m            \u001b[49m\u001b[43mcompletion_create_params\u001b[49m\u001b[43m.\u001b[49m\u001b[43mCompletionCreateParamsStreaming\u001b[49m\n\u001b[32m    565\u001b[39m \u001b[43m            \u001b[49m\u001b[38;5;28;43;01mif\u001b[39;49;00m\u001b[43m \u001b[49m\u001b[43mstream\u001b[49m\n\u001b[32m    566\u001b[39m \u001b[43m            \u001b[49m\u001b[38;5;28;43;01melse\u001b[39;49;00m\u001b[43m \u001b[49m\u001b[43mcompletion_create_params\u001b[49m\u001b[43m.\u001b[49m\u001b[43mCompletionCreateParamsNonStreaming\u001b[49m\u001b[43m,\u001b[49m\n\u001b[32m    567\u001b[39m \u001b[43m        \u001b[49m\u001b[43m)\u001b[49m\u001b[43m,\u001b[49m\n\u001b[32m    568\u001b[39m \u001b[43m        \u001b[49m\u001b[43moptions\u001b[49m\u001b[43m=\u001b[49m\u001b[43mmake_request_options\u001b[49m\u001b[43m(\u001b[49m\n\u001b[32m    569\u001b[39m \u001b[43m            \u001b[49m\u001b[43mextra_headers\u001b[49m\u001b[43m=\u001b[49m\u001b[43mextra_headers\u001b[49m\u001b[43m,\u001b[49m\u001b[43m \u001b[49m\u001b[43mextra_query\u001b[49m\u001b[43m=\u001b[49m\u001b[43mextra_query\u001b[49m\u001b[43m,\u001b[49m\u001b[43m \u001b[49m\u001b[43mextra_body\u001b[49m\u001b[43m=\u001b[49m\u001b[43mextra_body\u001b[49m\u001b[43m,\u001b[49m\u001b[43m \u001b[49m\u001b[43mtimeout\u001b[49m\u001b[43m=\u001b[49m\u001b[43mtimeout\u001b[49m\n\u001b[32m    570\u001b[39m \u001b[43m        \u001b[49m\u001b[43m)\u001b[49m\u001b[43m,\u001b[49m\n\u001b[32m    571\u001b[39m \u001b[43m        \u001b[49m\u001b[43mcast_to\u001b[49m\u001b[43m=\u001b[49m\u001b[43mCompletion\u001b[49m\u001b[43m,\u001b[49m\n\u001b[32m    572\u001b[39m \u001b[43m        \u001b[49m\u001b[43mstream\u001b[49m\u001b[43m=\u001b[49m\u001b[43mstream\u001b[49m\u001b[43m \u001b[49m\u001b[38;5;129;43;01mor\u001b[39;49;00m\u001b[43m \u001b[49m\u001b[38;5;28;43;01mFalse\u001b[39;49;00m\u001b[43m,\u001b[49m\n\u001b[32m    573\u001b[39m \u001b[43m        \u001b[49m\u001b[43mstream_cls\u001b[49m\u001b[43m=\u001b[49m\u001b[43mStream\u001b[49m\u001b[43m[\u001b[49m\u001b[43mCompletion\u001b[49m\u001b[43m]\u001b[49m\u001b[43m,\u001b[49m\n\u001b[32m    574\u001b[39m \u001b[43m    \u001b[49m\u001b[43m)\u001b[49m\n",
      "\u001b[36mFile \u001b[39m\u001b[32mc:\\Users\\amollaza24\\OneDrive - University of Oulu and Oamk\\HEALTH-AWARE_FOOD_RECOMMENDATION\\healthfood_env\\Lib\\site-packages\\openai\\_base_client.py:1259\u001b[39m, in \u001b[36mSyncAPIClient.post\u001b[39m\u001b[34m(self, path, cast_to, body, options, files, stream, stream_cls)\u001b[39m\n\u001b[32m   1256\u001b[39m opts = FinalRequestOptions.construct(\n\u001b[32m   1257\u001b[39m     method=\u001b[33m\"\u001b[39m\u001b[33mpost\u001b[39m\u001b[33m\"\u001b[39m, url=path, json_data=body, files=to_httpx_files(files), **options\n\u001b[32m   1258\u001b[39m )\n\u001b[32m-> \u001b[39m\u001b[32m1259\u001b[39m \u001b[38;5;28;01mreturn\u001b[39;00m cast(ResponseT, \u001b[38;5;28;43mself\u001b[39;49m\u001b[43m.\u001b[49m\u001b[43mrequest\u001b[49m\u001b[43m(\u001b[49m\u001b[43mcast_to\u001b[49m\u001b[43m,\u001b[49m\u001b[43m \u001b[49m\u001b[43mopts\u001b[49m\u001b[43m,\u001b[49m\u001b[43m \u001b[49m\u001b[43mstream\u001b[49m\u001b[43m=\u001b[49m\u001b[43mstream\u001b[49m\u001b[43m,\u001b[49m\u001b[43m \u001b[49m\u001b[43mstream_cls\u001b[49m\u001b[43m=\u001b[49m\u001b[43mstream_cls\u001b[49m\u001b[43m)\u001b[49m)\n",
      "\u001b[36mFile \u001b[39m\u001b[32mc:\\Users\\amollaza24\\OneDrive - University of Oulu and Oamk\\HEALTH-AWARE_FOOD_RECOMMENDATION\\healthfood_env\\Lib\\site-packages\\openai\\_base_client.py:1047\u001b[39m, in \u001b[36mSyncAPIClient.request\u001b[39m\u001b[34m(self, cast_to, options, stream, stream_cls)\u001b[39m\n\u001b[32m   1046\u001b[39m     log.debug(\u001b[33m\"\u001b[39m\u001b[33mRe-raising status error\u001b[39m\u001b[33m\"\u001b[39m)\n\u001b[32m-> \u001b[39m\u001b[32m1047\u001b[39m     \u001b[38;5;28;01mraise\u001b[39;00m \u001b[38;5;28mself\u001b[39m._make_status_error_from_response(err.response) \u001b[38;5;28;01mfrom\u001b[39;00m\u001b[38;5;250m \u001b[39m\u001b[38;5;28;01mNone\u001b[39;00m\n\u001b[32m   1049\u001b[39m \u001b[38;5;28;01mbreak\u001b[39;00m\n",
      "\u001b[31mNotFoundError\u001b[39m: Error code: 404 - {'error': {'message': 'This model is not supported in the v1/completions endpoint.', 'type': 'invalid_request_error', 'param': 'model', 'code': None}}",
      "\nDuring handling of the above exception, another exception occurred:\n",
      "\u001b[31mKeyboardInterrupt\u001b[39m                         Traceback (most recent call last)",
      "\u001b[36mCell\u001b[39m\u001b[36m \u001b[39m\u001b[32mIn[13]\u001b[39m\u001b[32m, line 8\u001b[39m\n\u001b[32m      5\u001b[39m sample_percentage = \u001b[32m0.1\u001b[39m\n\u001b[32m      7\u001b[39m \u001b[38;5;66;03m# --- Run Evaluation ---\u001b[39;00m\n\u001b[32m----> \u001b[39m\u001b[32m8\u001b[39m \u001b[43mrun_evaluation\u001b[49m\u001b[43m(\u001b[49m\u001b[43mclient\u001b[49m\u001b[43m,\u001b[49m\u001b[43m \u001b[49m\u001b[43mDATA_FILE_PATH_3\u001b[49m\u001b[43m,\u001b[49m\u001b[43m \u001b[49m\u001b[43mVALID_LABELS_3\u001b[49m\u001b[43m,\u001b[49m\u001b[43m \u001b[49m\u001b[43mUNIQUE_ID_KEYS_3\u001b[49m\u001b[43m,\u001b[49m\u001b[43m \u001b[49m\u001b[43msample_percentage\u001b[49m\u001b[43m)\u001b[49m\n",
      "\u001b[36mCell\u001b[39m\u001b[36m \u001b[39m\u001b[32mIn[10]\u001b[39m\u001b[32m, line 47\u001b[39m, in \u001b[36mrun_evaluation\u001b[39m\u001b[34m(client, data_file_path, valid_labels, unique_id_keys, sample_percentage)\u001b[39m\n\u001b[32m     45\u001b[39m \u001b[38;5;66;03m# Prepare and get prediction\u001b[39;00m\n\u001b[32m     46\u001b[39m prompt = get_prompt(instruction[\u001b[33m'\u001b[39m\u001b[33minstruction_input\u001b[39m\u001b[33m'\u001b[39m], valid_labels)\n\u001b[32m---> \u001b[39m\u001b[32m47\u001b[39m prediction = \u001b[43mget_llm_prediction\u001b[49m\u001b[43m(\u001b[49m\u001b[43mclient\u001b[49m\u001b[43m,\u001b[49m\u001b[43m \u001b[49m\u001b[43mmodel_name\u001b[49m\u001b[43m,\u001b[49m\u001b[43m \u001b[49m\u001b[43mprompt\u001b[49m\u001b[43m)\u001b[49m\n\u001b[32m     48\u001b[39m true_label = instruction[\u001b[33m'\u001b[39m\u001b[33minstruction_output\u001b[39m\u001b[33m'\u001b[39m]\n\u001b[32m     50\u001b[39m \u001b[38;5;66;03m# Build and store the result record\u001b[39;00m\n",
      "\u001b[36mCell\u001b[39m\u001b[36m \u001b[39m\u001b[32mIn[3]\u001b[39m\u001b[32m, line 60\u001b[39m, in \u001b[36mget_llm_prediction\u001b[39m\u001b[34m(client, model_name, prompt)\u001b[39m\n\u001b[32m     58\u001b[39m     \u001b[38;5;28;01mexcept\u001b[39;00m \u001b[38;5;167;01mException\u001b[39;00m \u001b[38;5;28;01mas\u001b[39;00m e:\n\u001b[32m     59\u001b[39m         \u001b[38;5;28mprint\u001b[39m(\u001b[33mf\u001b[39m\u001b[33m\"\u001b[39m\u001b[33mAPI Error (\u001b[39m\u001b[38;5;132;01m{\u001b[39;00mmodel_name\u001b[38;5;132;01m}\u001b[39;00m\u001b[33m): \u001b[39m\u001b[38;5;132;01m{\u001b[39;00me\u001b[38;5;132;01m}\u001b[39;00m\u001b[33m. Retrying... (Attempt \u001b[39m\u001b[38;5;132;01m{\u001b[39;00mattempt\u001b[38;5;250m \u001b[39m+\u001b[38;5;250m \u001b[39m\u001b[32m1\u001b[39m\u001b[38;5;132;01m}\u001b[39;00m\u001b[33m/\u001b[39m\u001b[38;5;132;01m{\u001b[39;00mretries\u001b[38;5;132;01m}\u001b[39;00m\u001b[33m)\u001b[39m\u001b[33m\"\u001b[39m)\n\u001b[32m---> \u001b[39m\u001b[32m60\u001b[39m         \u001b[43mtime\u001b[49m\u001b[43m.\u001b[49m\u001b[43msleep\u001b[49m\u001b[43m(\u001b[49m\u001b[43mdelay\u001b[49m\u001b[43m)\u001b[49m\n\u001b[32m     61\u001b[39m         delay *= \u001b[32m2\u001b[39m  \u001b[38;5;66;03m# Exponential backoff\u001b[39;00m\n\u001b[32m     63\u001b[39m \u001b[38;5;28;01mreturn\u001b[39;00m \u001b[33m\"\u001b[39m\u001b[33mapi_error\u001b[39m\u001b[33m\"\u001b[39m\n",
      "\u001b[31mKeyboardInterrupt\u001b[39m: "
     ]
    }
   ],
   "source": [
    "# --- Config for this file ---\n",
    "DATA_FILE_PATH_3 = 'data/task_3_tag_based_preference 1.json'\n",
    "VALID_LABELS_3 = [\"Strongly Recommend\", \"Recommend\", \"Neutral\", \"Do Not Recommend\"]\n",
    "UNIQUE_ID_KEYS_3 = ['user_id', 'target_recipe_id']\n",
    "sample_percentage = 0.1\n",
    "\n",
    "# --- Run Evaluation ---\n",
    "run_evaluation(client, DATA_FILE_PATH_3, VALID_LABELS_3, UNIQUE_ID_KEYS_3, sample_percentage)"
   ]
  },
  {
   "cell_type": "markdown",
   "id": "34c4f3d9",
   "metadata": {},
   "source": [
    "### 7. Evaluation: Task 8 - Flavor Memory"
   ]
  },
  {
   "cell_type": "code",
   "execution_count": 17,
   "id": "9bbc5750",
   "metadata": {},
   "outputs": [
    {
     "name": "stdout",
     "output_type": "stream",
     "text": [
      "\n",
      "==================== Starting Evaluation for: task_8_flavor_memory 1 ====================\n",
      "Original dataset size: 23415. Using a random sample of 2341 instructions (10%).\n",
      "\n",
      "--- Processing Model: gpt-3.5-turbo ---\n"
     ]
    },
    {
     "data": {
      "application/vnd.jupyter.widget-view+json": {
       "model_id": "6d866d3346294fd1934099736b893f73",
       "version_major": 2,
       "version_minor": 0
      },
      "text/plain": [
       "Model: gpt-3.5-turbo:   0%|          | 0/2341 [00:00<?, ?it/s]"
      ]
     },
     "metadata": {},
     "output_type": "display_data"
    },
    {
     "name": "stdout",
     "output_type": "stream",
     "text": [
      "Successfully saved 100 results to results/results_task_8_flavor_memory 1.json\n",
      "Successfully saved 200 results to results/results_task_8_flavor_memory 1.json\n",
      "Successfully saved 300 results to results/results_task_8_flavor_memory 1.json\n",
      "Successfully saved 400 results to results/results_task_8_flavor_memory 1.json\n",
      "Successfully saved 500 results to results/results_task_8_flavor_memory 1.json\n",
      "Successfully saved 600 results to results/results_task_8_flavor_memory 1.json\n",
      "Successfully saved 700 results to results/results_task_8_flavor_memory 1.json\n",
      "Successfully saved 800 results to results/results_task_8_flavor_memory 1.json\n",
      "Successfully saved 900 results to results/results_task_8_flavor_memory 1.json\n",
      "Successfully saved 1000 results to results/results_task_8_flavor_memory 1.json\n",
      "Successfully saved 1100 results to results/results_task_8_flavor_memory 1.json\n",
      "Successfully saved 1200 results to results/results_task_8_flavor_memory 1.json\n",
      "Successfully saved 1300 results to results/results_task_8_flavor_memory 1.json\n",
      "Successfully saved 1400 results to results/results_task_8_flavor_memory 1.json\n",
      "Successfully saved 1500 results to results/results_task_8_flavor_memory 1.json\n",
      "Successfully saved 1600 results to results/results_task_8_flavor_memory 1.json\n",
      "Successfully saved 1700 results to results/results_task_8_flavor_memory 1.json\n",
      "Successfully saved 1800 results to results/results_task_8_flavor_memory 1.json\n",
      "Successfully saved 1900 results to results/results_task_8_flavor_memory 1.json\n",
      "Successfully saved 2000 results to results/results_task_8_flavor_memory 1.json\n",
      "Successfully saved 2100 results to results/results_task_8_flavor_memory 1.json\n",
      "Successfully saved 2200 results to results/results_task_8_flavor_memory 1.json\n",
      "Successfully saved 2300 results to results/results_task_8_flavor_memory 1.json\n",
      "\n",
      "--- Processing Model: gpt-4o ---\n"
     ]
    },
    {
     "data": {
      "application/vnd.jupyter.widget-view+json": {
       "model_id": "b4a9eee4dc314db2b19d294a17cd5e56",
       "version_major": 2,
       "version_minor": 0
      },
      "text/plain": [
       "Model: gpt-4o:   0%|          | 0/2341 [00:00<?, ?it/s]"
      ]
     },
     "metadata": {},
     "output_type": "display_data"
    },
    {
     "name": "stdout",
     "output_type": "stream",
     "text": [
      "Successfully saved 2400 results to results/results_task_8_flavor_memory 1.json\n",
      "Successfully saved 2500 results to results/results_task_8_flavor_memory 1.json\n",
      "Successfully saved 2600 results to results/results_task_8_flavor_memory 1.json\n",
      "Successfully saved 2700 results to results/results_task_8_flavor_memory 1.json\n",
      "Successfully saved 2800 results to results/results_task_8_flavor_memory 1.json\n",
      "Successfully saved 2900 results to results/results_task_8_flavor_memory 1.json\n",
      "Successfully saved 3000 results to results/results_task_8_flavor_memory 1.json\n",
      "Successfully saved 3100 results to results/results_task_8_flavor_memory 1.json\n",
      "Successfully saved 3200 results to results/results_task_8_flavor_memory 1.json\n",
      "Successfully saved 3300 results to results/results_task_8_flavor_memory 1.json\n",
      "Successfully saved 3400 results to results/results_task_8_flavor_memory 1.json\n",
      "Successfully saved 3500 results to results/results_task_8_flavor_memory 1.json\n",
      "Successfully saved 3600 results to results/results_task_8_flavor_memory 1.json\n",
      "Successfully saved 3700 results to results/results_task_8_flavor_memory 1.json\n",
      "Successfully saved 3800 results to results/results_task_8_flavor_memory 1.json\n",
      "Successfully saved 3900 results to results/results_task_8_flavor_memory 1.json\n",
      "Successfully saved 4000 results to results/results_task_8_flavor_memory 1.json\n",
      "Successfully saved 4100 results to results/results_task_8_flavor_memory 1.json\n",
      "Successfully saved 4200 results to results/results_task_8_flavor_memory 1.json\n",
      "Successfully saved 4300 results to results/results_task_8_flavor_memory 1.json\n",
      "Successfully saved 4400 results to results/results_task_8_flavor_memory 1.json\n",
      "Successfully saved 4500 results to results/results_task_8_flavor_memory 1.json\n",
      "Successfully saved 4600 results to results/results_task_8_flavor_memory 1.json\n",
      "Successfully saved 4682 results to results/results_task_8_flavor_memory 1.json\n",
      "\n",
      "==================== Evaluation COMPLETE for: task_8_flavor_memory 1 ====================\n"
     ]
    }
   ],
   "source": [
    "# --- Config for this file ---\n",
    "DATA_FILE_PATH_8 = 'data/task_8_flavor_memory 1.json'\n",
    "VALID_LABELS_8 = [\"Strongly Recommend\", \"Recommend\", \"Neutral\", \"Do Not Recommend\"]\n",
    "UNIQUE_ID_KEYS_8 = ['user_id', 'target_recipe_id']\n",
    "sample_percentage = 0.1\n",
    "\n",
    "# --- Run Evaluation ---\n",
    "run_evaluation(client, DATA_FILE_PATH_8, VALID_LABELS_8, UNIQUE_ID_KEYS_8, sample_percentage = 0.1)"
   ]
  },
  {
   "cell_type": "markdown",
   "id": "b73f95e4",
   "metadata": {},
   "source": [
    "### 8. Evaluation: Task 9 - Health Profile"
   ]
  },
  {
   "cell_type": "code",
   "execution_count": 5,
   "id": "dc81c156",
   "metadata": {},
   "outputs": [
    {
     "name": "stdout",
     "output_type": "stream",
     "text": [
      "\n",
      "==================== Starting Evaluation for: task_9_health_profile 3 ====================\n",
      "Original dataset size: 12993. Using a random sample of 1299 instructions (10%).\n",
      "\n",
      "--- Processing Model: gpt-3.5-turbo ---\n"
     ]
    },
    {
     "data": {
      "application/vnd.jupyter.widget-view+json": {
       "model_id": "b0fadd5493214563a94cba73f5b1ea2f",
       "version_major": 2,
       "version_minor": 0
      },
      "text/plain": [
       "Model: gpt-3.5-turbo:   0%|          | 0/1299 [00:00<?, ?it/s]"
      ]
     },
     "metadata": {},
     "output_type": "display_data"
    },
    {
     "name": "stdout",
     "output_type": "stream",
     "text": [
      "Successfully saved 100 results to results/results_task_9_health_profile 3.json\n",
      "Successfully saved 200 results to results/results_task_9_health_profile 3.json\n",
      "Successfully saved 300 results to results/results_task_9_health_profile 3.json\n",
      "Successfully saved 400 results to results/results_task_9_health_profile 3.json\n",
      "Successfully saved 500 results to results/results_task_9_health_profile 3.json\n",
      "Successfully saved 600 results to results/results_task_9_health_profile 3.json\n",
      "Successfully saved 700 results to results/results_task_9_health_profile 3.json\n",
      "Successfully saved 800 results to results/results_task_9_health_profile 3.json\n",
      "Successfully saved 900 results to results/results_task_9_health_profile 3.json\n",
      "Successfully saved 1000 results to results/results_task_9_health_profile 3.json\n",
      "Successfully saved 1100 results to results/results_task_9_health_profile 3.json\n",
      "Successfully saved 1200 results to results/results_task_9_health_profile 3.json\n",
      "\n",
      "--- Processing Model: gpt-4o ---\n"
     ]
    },
    {
     "data": {
      "application/vnd.jupyter.widget-view+json": {
       "model_id": "275efa6684314a8c83cb4b2182970297",
       "version_major": 2,
       "version_minor": 0
      },
      "text/plain": [
       "Model: gpt-4o:   0%|          | 0/1299 [00:00<?, ?it/s]"
      ]
     },
     "metadata": {},
     "output_type": "display_data"
    },
    {
     "name": "stdout",
     "output_type": "stream",
     "text": [
      "Successfully saved 1300 results to results/results_task_9_health_profile 3.json\n",
      "Successfully saved 1400 results to results/results_task_9_health_profile 3.json\n",
      "Successfully saved 1500 results to results/results_task_9_health_profile 3.json\n",
      "Successfully saved 1600 results to results/results_task_9_health_profile 3.json\n",
      "Successfully saved 1700 results to results/results_task_9_health_profile 3.json\n",
      "Successfully saved 1800 results to results/results_task_9_health_profile 3.json\n",
      "Successfully saved 1900 results to results/results_task_9_health_profile 3.json\n",
      "Successfully saved 2000 results to results/results_task_9_health_profile 3.json\n",
      "Successfully saved 2100 results to results/results_task_9_health_profile 3.json\n",
      "Successfully saved 2200 results to results/results_task_9_health_profile 3.json\n",
      "Successfully saved 2300 results to results/results_task_9_health_profile 3.json\n",
      "Successfully saved 2400 results to results/results_task_9_health_profile 3.json\n",
      "Successfully saved 2500 results to results/results_task_9_health_profile 3.json\n",
      "Successfully saved 2598 results to results/results_task_9_health_profile 3.json\n",
      "\n",
      "==================== Evaluation COMPLETE for: task_9_health_profile 3 ====================\n"
     ]
    }
   ],
   "source": [
    "# --- Config for this file ---\n",
    "DATA_FILE_PATH_9 = 'data/task_9_health_profile 3.json'\n",
    "VALID_LABELS_9 = [\"Strongly Recommend\", \"Recommend\", \"Neutral\", \"Do Not Recommend\"]\n",
    "UNIQUE_ID_KEYS_9 = ['user_id', 'target_recipe_id']\n",
    "sample_percentage = 0.1\n",
    "\n",
    "\n",
    "# --- Run Evaluation ---\n",
    "run_evaluation(client, DATA_FILE_PATH_9, VALID_LABELS_9, UNIQUE_ID_KEYS_9, sample_percentage)"
   ]
  },
  {
   "cell_type": "markdown",
   "id": "a08198ea",
   "metadata": {},
   "source": [
    "### 9. Evaluation: Task 5 - Session Drift"
   ]
  },
  {
   "cell_type": "code",
   "execution_count": 6,
   "id": "0d653ce8",
   "metadata": {},
   "outputs": [
    {
     "name": "stdout",
     "output_type": "stream",
     "text": [
      "\n",
      "==================== Starting Evaluation for: task_5_session_drift 3 ====================\n",
      "Original dataset size: 100000. Using a random sample of 3000 instructions (10%).\n",
      "\n",
      "--- Processing Model: gpt-3.5-turbo ---\n"
     ]
    },
    {
     "data": {
      "application/vnd.jupyter.widget-view+json": {
       "model_id": "2ae76d7dec5c4500a70cc088be1f8bfe",
       "version_major": 2,
       "version_minor": 0
      },
      "text/plain": [
       "Model: gpt-3.5-turbo:   0%|          | 0/3000 [00:00<?, ?it/s]"
      ]
     },
     "metadata": {},
     "output_type": "display_data"
    },
    {
     "name": "stdout",
     "output_type": "stream",
     "text": [
      "Successfully saved 100 results to results/results_task_5_session_drift 3.json\n",
      "Successfully saved 200 results to results/results_task_5_session_drift 3.json\n",
      "Successfully saved 300 results to results/results_task_5_session_drift 3.json\n",
      "Successfully saved 400 results to results/results_task_5_session_drift 3.json\n",
      "Successfully saved 500 results to results/results_task_5_session_drift 3.json\n",
      "Successfully saved 600 results to results/results_task_5_session_drift 3.json\n",
      "Successfully saved 700 results to results/results_task_5_session_drift 3.json\n",
      "Successfully saved 800 results to results/results_task_5_session_drift 3.json\n",
      "Successfully saved 900 results to results/results_task_5_session_drift 3.json\n",
      "Successfully saved 1000 results to results/results_task_5_session_drift 3.json\n",
      "Successfully saved 1100 results to results/results_task_5_session_drift 3.json\n",
      "Successfully saved 1200 results to results/results_task_5_session_drift 3.json\n",
      "Successfully saved 1300 results to results/results_task_5_session_drift 3.json\n",
      "Successfully saved 1400 results to results/results_task_5_session_drift 3.json\n",
      "Successfully saved 1500 results to results/results_task_5_session_drift 3.json\n",
      "Successfully saved 1600 results to results/results_task_5_session_drift 3.json\n",
      "Successfully saved 1700 results to results/results_task_5_session_drift 3.json\n",
      "Successfully saved 1800 results to results/results_task_5_session_drift 3.json\n",
      "Successfully saved 1900 results to results/results_task_5_session_drift 3.json\n",
      "Successfully saved 2000 results to results/results_task_5_session_drift 3.json\n",
      "Successfully saved 2100 results to results/results_task_5_session_drift 3.json\n",
      "Successfully saved 2200 results to results/results_task_5_session_drift 3.json\n",
      "Successfully saved 2300 results to results/results_task_5_session_drift 3.json\n",
      "Successfully saved 2400 results to results/results_task_5_session_drift 3.json\n",
      "Successfully saved 2500 results to results/results_task_5_session_drift 3.json\n",
      "Successfully saved 2600 results to results/results_task_5_session_drift 3.json\n",
      "Successfully saved 2700 results to results/results_task_5_session_drift 3.json\n",
      "Successfully saved 2800 results to results/results_task_5_session_drift 3.json\n",
      "Successfully saved 2900 results to results/results_task_5_session_drift 3.json\n",
      "\n",
      "--- Processing Model: gpt-4o ---\n"
     ]
    },
    {
     "data": {
      "application/vnd.jupyter.widget-view+json": {
       "model_id": "ade35b0905b84673bee406359b61c7ed",
       "version_major": 2,
       "version_minor": 0
      },
      "text/plain": [
       "Model: gpt-4o:   0%|          | 0/3000 [00:00<?, ?it/s]"
      ]
     },
     "metadata": {},
     "output_type": "display_data"
    },
    {
     "name": "stdout",
     "output_type": "stream",
     "text": [
      "Successfully saved 3000 results to results/results_task_5_session_drift 3.json\n",
      "Successfully saved 3100 results to results/results_task_5_session_drift 3.json\n",
      "Successfully saved 3200 results to results/results_task_5_session_drift 3.json\n",
      "Successfully saved 3300 results to results/results_task_5_session_drift 3.json\n",
      "Successfully saved 3400 results to results/results_task_5_session_drift 3.json\n",
      "Successfully saved 3500 results to results/results_task_5_session_drift 3.json\n",
      "Successfully saved 3600 results to results/results_task_5_session_drift 3.json\n",
      "Successfully saved 3700 results to results/results_task_5_session_drift 3.json\n",
      "Successfully saved 3800 results to results/results_task_5_session_drift 3.json\n",
      "Successfully saved 3900 results to results/results_task_5_session_drift 3.json\n",
      "Successfully saved 4000 results to results/results_task_5_session_drift 3.json\n",
      "Successfully saved 4100 results to results/results_task_5_session_drift 3.json\n",
      "Successfully saved 4200 results to results/results_task_5_session_drift 3.json\n",
      "Successfully saved 4300 results to results/results_task_5_session_drift 3.json\n",
      "Successfully saved 4400 results to results/results_task_5_session_drift 3.json\n",
      "Successfully saved 4500 results to results/results_task_5_session_drift 3.json\n",
      "Successfully saved 4600 results to results/results_task_5_session_drift 3.json\n",
      "Successfully saved 4700 results to results/results_task_5_session_drift 3.json\n",
      "Successfully saved 4800 results to results/results_task_5_session_drift 3.json\n",
      "Successfully saved 4900 results to results/results_task_5_session_drift 3.json\n",
      "Successfully saved 5000 results to results/results_task_5_session_drift 3.json\n",
      "Successfully saved 5100 results to results/results_task_5_session_drift 3.json\n",
      "Successfully saved 5200 results to results/results_task_5_session_drift 3.json\n",
      "Successfully saved 5300 results to results/results_task_5_session_drift 3.json\n",
      "Successfully saved 5400 results to results/results_task_5_session_drift 3.json\n",
      "Successfully saved 5500 results to results/results_task_5_session_drift 3.json\n",
      "Successfully saved 5600 results to results/results_task_5_session_drift 3.json\n",
      "Successfully saved 5700 results to results/results_task_5_session_drift 3.json\n",
      "Successfully saved 5800 results to results/results_task_5_session_drift 3.json\n",
      "Successfully saved 5900 results to results/results_task_5_session_drift 3.json\n",
      "Successfully saved 5960 results to results/results_task_5_session_drift 3.json\n",
      "\n",
      "==================== Evaluation COMPLETE for: task_5_session_drift 3 ====================\n"
     ]
    }
   ],
   "source": [
    "# --- Config for this file ---\n",
    "DATA_FILE_PATH_5 = 'data/task_5_session_drift 3.json'\n",
    "VALID_LABELS_5 = [\"Positive\", \"Neutral\", \"Negative\"]\n",
    "UNIQUE_ID_KEYS_5 = ['user_id', 'target_recipe_id']\n",
    "sample_percentage = 0.03\n",
    "\n",
    "# --- Run Evaluation ---\n",
    "run_evaluation(client, DATA_FILE_PATH_5, VALID_LABELS_5, UNIQUE_ID_KEYS_5, sample_percentage)"
   ]
  },
  {
   "cell_type": "markdown",
   "id": "b657c2b4",
   "metadata": {},
   "source": [
    "### 10. Evaluation: Task 6 - Repetition vs. Exploration"
   ]
  },
  {
   "cell_type": "code",
   "execution_count": 19,
   "id": "95464665",
   "metadata": {},
   "outputs": [
    {
     "name": "stdout",
     "output_type": "stream",
     "text": [
      "\n",
      "==================== Starting Evaluation for: task_6_repetition_exploration 1 ====================\n",
      "Original dataset size: 100000. Using a random sample of 3000 instructions (10%).\n",
      "\n",
      "--- Processing Model: gpt-3.5-turbo ---\n"
     ]
    },
    {
     "data": {
      "application/vnd.jupyter.widget-view+json": {
       "model_id": "6f4f5b62214f4c5f8210380aad27acbd",
       "version_major": 2,
       "version_minor": 0
      },
      "text/plain": [
       "Model: gpt-3.5-turbo:   0%|          | 0/3000 [00:00<?, ?it/s]"
      ]
     },
     "metadata": {},
     "output_type": "display_data"
    },
    {
     "name": "stdout",
     "output_type": "stream",
     "text": [
      "Successfully saved 100 results to results/results_task_6_repetition_exploration 1.json\n",
      "Successfully saved 200 results to results/results_task_6_repetition_exploration 1.json\n",
      "Successfully saved 300 results to results/results_task_6_repetition_exploration 1.json\n",
      "Successfully saved 400 results to results/results_task_6_repetition_exploration 1.json\n",
      "Successfully saved 500 results to results/results_task_6_repetition_exploration 1.json\n",
      "Successfully saved 600 results to results/results_task_6_repetition_exploration 1.json\n",
      "Successfully saved 700 results to results/results_task_6_repetition_exploration 1.json\n",
      "Successfully saved 800 results to results/results_task_6_repetition_exploration 1.json\n",
      "Successfully saved 900 results to results/results_task_6_repetition_exploration 1.json\n",
      "Successfully saved 1000 results to results/results_task_6_repetition_exploration 1.json\n",
      "Successfully saved 1100 results to results/results_task_6_repetition_exploration 1.json\n",
      "Successfully saved 1200 results to results/results_task_6_repetition_exploration 1.json\n",
      "Successfully saved 1300 results to results/results_task_6_repetition_exploration 1.json\n",
      "Successfully saved 1400 results to results/results_task_6_repetition_exploration 1.json\n",
      "Successfully saved 1500 results to results/results_task_6_repetition_exploration 1.json\n",
      "Successfully saved 1600 results to results/results_task_6_repetition_exploration 1.json\n",
      "Successfully saved 1700 results to results/results_task_6_repetition_exploration 1.json\n",
      "Successfully saved 1800 results to results/results_task_6_repetition_exploration 1.json\n",
      "Successfully saved 1900 results to results/results_task_6_repetition_exploration 1.json\n",
      "Successfully saved 2000 results to results/results_task_6_repetition_exploration 1.json\n",
      "Successfully saved 2100 results to results/results_task_6_repetition_exploration 1.json\n",
      "Successfully saved 2200 results to results/results_task_6_repetition_exploration 1.json\n",
      "Successfully saved 2300 results to results/results_task_6_repetition_exploration 1.json\n",
      "Successfully saved 2400 results to results/results_task_6_repetition_exploration 1.json\n",
      "Successfully saved 2500 results to results/results_task_6_repetition_exploration 1.json\n",
      "Successfully saved 2600 results to results/results_task_6_repetition_exploration 1.json\n",
      "Successfully saved 2700 results to results/results_task_6_repetition_exploration 1.json\n",
      "Successfully saved 2800 results to results/results_task_6_repetition_exploration 1.json\n",
      "Successfully saved 2900 results to results/results_task_6_repetition_exploration 1.json\n",
      "Successfully saved 3000 results to results/results_task_6_repetition_exploration 1.json\n",
      "\n",
      "--- Processing Model: gpt-4o ---\n"
     ]
    },
    {
     "data": {
      "application/vnd.jupyter.widget-view+json": {
       "model_id": "c722d65e96d243198fdf4bf358ebcab2",
       "version_major": 2,
       "version_minor": 0
      },
      "text/plain": [
       "Model: gpt-4o:   0%|          | 0/3000 [00:00<?, ?it/s]"
      ]
     },
     "metadata": {},
     "output_type": "display_data"
    },
    {
     "name": "stdout",
     "output_type": "stream",
     "text": [
      "Successfully saved 3100 results to results/results_task_6_repetition_exploration 1.json\n",
      "Successfully saved 3200 results to results/results_task_6_repetition_exploration 1.json\n",
      "Successfully saved 3300 results to results/results_task_6_repetition_exploration 1.json\n",
      "Successfully saved 3400 results to results/results_task_6_repetition_exploration 1.json\n",
      "Successfully saved 3500 results to results/results_task_6_repetition_exploration 1.json\n",
      "Successfully saved 3600 results to results/results_task_6_repetition_exploration 1.json\n",
      "Successfully saved 3700 results to results/results_task_6_repetition_exploration 1.json\n",
      "Successfully saved 3800 results to results/results_task_6_repetition_exploration 1.json\n",
      "Successfully saved 3900 results to results/results_task_6_repetition_exploration 1.json\n",
      "Successfully saved 4000 results to results/results_task_6_repetition_exploration 1.json\n",
      "Successfully saved 4100 results to results/results_task_6_repetition_exploration 1.json\n",
      "Successfully saved 4200 results to results/results_task_6_repetition_exploration 1.json\n",
      "Successfully saved 4300 results to results/results_task_6_repetition_exploration 1.json\n",
      "Successfully saved 4400 results to results/results_task_6_repetition_exploration 1.json\n",
      "Successfully saved 4500 results to results/results_task_6_repetition_exploration 1.json\n",
      "Successfully saved 4600 results to results/results_task_6_repetition_exploration 1.json\n",
      "Successfully saved 4700 results to results/results_task_6_repetition_exploration 1.json\n",
      "Successfully saved 4800 results to results/results_task_6_repetition_exploration 1.json\n",
      "Successfully saved 4900 results to results/results_task_6_repetition_exploration 1.json\n",
      "Successfully saved 5000 results to results/results_task_6_repetition_exploration 1.json\n",
      "Successfully saved 5100 results to results/results_task_6_repetition_exploration 1.json\n",
      "Successfully saved 5200 results to results/results_task_6_repetition_exploration 1.json\n",
      "Successfully saved 5300 results to results/results_task_6_repetition_exploration 1.json\n",
      "Successfully saved 5400 results to results/results_task_6_repetition_exploration 1.json\n",
      "Successfully saved 5500 results to results/results_task_6_repetition_exploration 1.json\n",
      "Successfully saved 5600 results to results/results_task_6_repetition_exploration 1.json\n",
      "Successfully saved 5700 results to results/results_task_6_repetition_exploration 1.json\n",
      "Successfully saved 5800 results to results/results_task_6_repetition_exploration 1.json\n",
      "Successfully saved 5900 results to results/results_task_6_repetition_exploration 1.json\n",
      "Successfully saved 6000 results to results/results_task_6_repetition_exploration 1.json\n",
      "Successfully saved 6000 results to results/results_task_6_repetition_exploration 1.json\n",
      "\n",
      "==================== Evaluation COMPLETE for: task_6_repetition_exploration 1 ====================\n"
     ]
    }
   ],
   "source": [
    "# --- Config for this file ---\n",
    "DATA_FILE_PATH_6 = 'data/task_6_repetition_exploration 1.json'\n",
    "VALID_LABELS_6 = [\"Repetition\", \"Exploration\"]\n",
    "UNIQUE_ID_KEYS_6 = ['user_id', 'target_recipe_id']\n",
    "sample_percentage = 0.03\n",
    "\n",
    "# --- Run Evaluation ---\n",
    "run_evaluation(client, DATA_FILE_PATH_6, VALID_LABELS_6, UNIQUE_ID_KEYS_6, sample_percentage)"
   ]
  },
  {
   "cell_type": "markdown",
   "id": "c04c6f11",
   "metadata": {},
   "source": [
    "### 11. Evaluation: Task 10 - Health Tradeoff"
   ]
  },
  {
   "cell_type": "code",
   "execution_count": 11,
   "id": "44cdbb87",
   "metadata": {},
   "outputs": [
    {
     "name": "stdout",
     "output_type": "stream",
     "text": [
      "\n",
      "==================== Starting Evaluation for: task_10_health_tradeoff 3 ====================\n",
      "Original dataset size: 14429. Using a random sample of 1442 instructions (10%).\n",
      "\n",
      "--- Processing Model: gpt-3.5-turbo ---\n"
     ]
    },
    {
     "data": {
      "application/vnd.jupyter.widget-view+json": {
       "model_id": "1c49655a593145eaa1adca0f7b4c75e3",
       "version_major": 2,
       "version_minor": 0
      },
      "text/plain": [
       "Model: gpt-3.5-turbo:   0%|          | 0/1442 [00:00<?, ?it/s]"
      ]
     },
     "metadata": {},
     "output_type": "display_data"
    },
    {
     "name": "stdout",
     "output_type": "stream",
     "text": [
      "Successfully saved 100 results to results/results_task_10_health_tradeoff 3.json\n",
      "Successfully saved 200 results to results/results_task_10_health_tradeoff 3.json\n",
      "Successfully saved 300 results to results/results_task_10_health_tradeoff 3.json\n",
      "Successfully saved 400 results to results/results_task_10_health_tradeoff 3.json\n",
      "Successfully saved 500 results to results/results_task_10_health_tradeoff 3.json\n",
      "Successfully saved 600 results to results/results_task_10_health_tradeoff 3.json\n",
      "Successfully saved 700 results to results/results_task_10_health_tradeoff 3.json\n",
      "Successfully saved 800 results to results/results_task_10_health_tradeoff 3.json\n",
      "Successfully saved 900 results to results/results_task_10_health_tradeoff 3.json\n",
      "Successfully saved 1000 results to results/results_task_10_health_tradeoff 3.json\n",
      "Successfully saved 1100 results to results/results_task_10_health_tradeoff 3.json\n",
      "Successfully saved 1200 results to results/results_task_10_health_tradeoff 3.json\n",
      "Successfully saved 1300 results to results/results_task_10_health_tradeoff 3.json\n",
      "Successfully saved 1400 results to results/results_task_10_health_tradeoff 3.json\n",
      "\n",
      "--- Processing Model: gpt-4o ---\n"
     ]
    },
    {
     "data": {
      "application/vnd.jupyter.widget-view+json": {
       "model_id": "d87e571d41af42a698f0efc7a50d5a0a",
       "version_major": 2,
       "version_minor": 0
      },
      "text/plain": [
       "Model: gpt-4o:   0%|          | 0/1442 [00:00<?, ?it/s]"
      ]
     },
     "metadata": {},
     "output_type": "display_data"
    },
    {
     "name": "stdout",
     "output_type": "stream",
     "text": [
      "Successfully saved 1500 results to results/results_task_10_health_tradeoff 3.json\n",
      "Successfully saved 1600 results to results/results_task_10_health_tradeoff 3.json\n",
      "Successfully saved 1700 results to results/results_task_10_health_tradeoff 3.json\n",
      "Successfully saved 1800 results to results/results_task_10_health_tradeoff 3.json\n",
      "Successfully saved 1900 results to results/results_task_10_health_tradeoff 3.json\n",
      "Successfully saved 2000 results to results/results_task_10_health_tradeoff 3.json\n",
      "Successfully saved 2100 results to results/results_task_10_health_tradeoff 3.json\n",
      "Successfully saved 2200 results to results/results_task_10_health_tradeoff 3.json\n",
      "Successfully saved 2300 results to results/results_task_10_health_tradeoff 3.json\n",
      "Successfully saved 2400 results to results/results_task_10_health_tradeoff 3.json\n",
      "Successfully saved 2500 results to results/results_task_10_health_tradeoff 3.json\n",
      "Successfully saved 2600 results to results/results_task_10_health_tradeoff 3.json\n",
      "Successfully saved 2700 results to results/results_task_10_health_tradeoff 3.json\n",
      "Successfully saved 2800 results to results/results_task_10_health_tradeoff 3.json\n",
      "Successfully saved 2884 results to results/results_task_10_health_tradeoff 3.json\n",
      "\n",
      "Total new API calls made in this run: 2884\n",
      "\n",
      "==================== Evaluation COMPLETE for: task_10_health_tradeoff 3 ====================\n"
     ]
    }
   ],
   "source": [
    "# --- Config for this file ---\n",
    "DATA_FILE_PATH_10 = 'data/task_10_health_tradeoff 3.json'\n",
    "# These are the *clean* labels we will prompt the LLM for\n",
    "VALID_LABELS_10 = [\"Recipe A\", \"Recipe B\", \"Both rated equally\"]\n",
    "# This map converts the *messy* instruction_output into our clean labels\n",
    "LABEL_MAP_10 = {\n",
    "    \"Recipe A\": \"Recipe A\",\n",
    "    \"Recipe B\": \"Recipe B\",\n",
    "    \"Both rated equally\": \"Both rated equally\"\n",
    "}\n",
    "UNIQUE_ID_KEYS_10 = ['user_id', 'target_recipe_id']\n",
    "\n",
    "sample_percentage = 0.1\n",
    "\n",
    "# --- Run Evaluation ---\n",
    "# We pass in the label_map and a sample_count\n",
    "run_evaluation(client, DATA_FILE_PATH_10, VALID_LABELS_10, UNIQUE_ID_KEYS_10, sample_percentage, label_map=LABEL_MAP_10)"
   ]
  },
  {
   "cell_type": "markdown",
   "id": "79a5f8bc",
   "metadata": {},
   "source": [
    "### 12. Final Analysis\n",
    "\n",
    "After all evaluation cells have been run, this final section loads all the generated result files into a single pandas DataFrame. It then calculates the overall accuracy and weighted F1-score for each model on each task, presenting a final summary table and a bar chart for easy comparison."
   ]
  },
  {
   "cell_type": "code",
   "execution_count": 12,
   "id": "53032844",
   "metadata": {},
   "outputs": [
    {
     "name": "stdout",
     "output_type": "stream",
     "text": [
      "Loaded a total of 33724 predictions from 7 result files.\n",
      "\n",
      "\n",
      "--- 🚀 Final Performance Summary (Weighted F1-Score) ---\n",
      "| task_name                       |   gpt-3.5-turbo |   gpt-4o |\n",
      "|:--------------------------------|----------------:|---------:|\n",
      "| task_10_health_tradeoff 3       |          0.1904 |   0.3031 |\n",
      "| task_1_preference_simulation 1  |          0.3784 |   0.3754 |\n",
      "| task_3_tag_based_preference 1   |          0.1175 |   0.1030 |\n",
      "| task_5_session_drift 3          |          0.4159 |   0.7616 |\n",
      "| task_6_repetition_exploration 1 |          0.4778 |   0.5756 |\n",
      "| task_8_flavor_memory 1          |          0.1889 |   0.2699 |\n",
      "| task_9_health_profile 3         |          0.2908 |   0.0829 |\n",
      "\n",
      "\n",
      "--- 🚀 Final Performance Summary (Accuracy) ---\n",
      "| task_name                       |   gpt-3.5-turbo |   gpt-4o |\n",
      "|:--------------------------------|----------------:|---------:|\n",
      "| task_10_health_tradeoff 3       |          0.3044 |   0.3814 |\n",
      "| task_1_preference_simulation 1  |          0.3298 |   0.3606 |\n",
      "| task_3_tag_based_preference 1   |          0.1904 |   0.1857 |\n",
      "| task_5_session_drift 3          |          0.3047 |   0.7124 |\n",
      "| task_6_repetition_exploration 1 |          0.4563 |   0.5733 |\n",
      "| task_8_flavor_memory 1          |          0.1538 |   0.2388 |\n",
      "| task_9_health_profile 3         |          0.2640 |   0.1532 |\n"
     ]
    },
    {
     "name": "stderr",
     "output_type": "stream",
     "text": [
      "C:\\Users\\amollaza24\\AppData\\Local\\Temp\\ipykernel_3628\\3838677675.py:20: FutureWarning: DataFrameGroupBy.apply operated on the grouping columns. This behavior is deprecated, and in a future version of pandas the grouping columns will be excluded from the operation. Either pass `include_groups=False` to exclude the groupings or explicitly select the grouping columns after groupby to silence this warning.\n",
      "  summary = full_df.groupby(['task_name', 'model_name']).apply(lambda x: pd.Series({\n"
     ]
    },
    {
     "data": {
      "image/png": "[encoded data removed]",
      "text/plain": [
       "<Figure size 1500x800 with 1 Axes>"
      ]
     },
     "metadata": {},
     "output_type": "display_data"
    },
    {
     "data": {
      "image/png": "[encoded data removed]",
      "text/plain": [
       "<Figure size 1500x800 with 1 Axes>"
      ]
     },
     "metadata": {},
     "output_type": "display_data"
    }
   ],
   "source": [
    "# --- Load all result files ---\n",
    "results_dir = 'results'\n",
    "all_results_df = []\n",
    "for filename in os.listdir(results_dir):\n",
    "    if filename.startswith('results_task_') and filename.endswith('.json'):\n",
    "        # --- Load all classification tasks, including task_10 ---\n",
    "        if any(task_num in filename for task_num in ['task_1', 'task_3', 'task_8', 'task_9', 'task_5', 'task_6', 'task_10']):\n",
    "            task_name = filename.replace('results_', '').replace('.json', '')\n",
    "            df = pd.read_json(os.path.join(results_dir, filename))\n",
    "            df['task_name'] = task_name\n",
    "            all_results_df.append(df)\n",
    "\n",
    "if not all_results_df:\n",
    "    print(\"No result files found. Please run the evaluation cells first.\")\n",
    "else:\n",
    "    full_df = pd.concat(all_results_df, ignore_index=True)\n",
    "    print(f\"Loaded a total of {len(full_df)} predictions from {len(all_results_df)} result files.\")\n",
    "\n",
    "    # --- Calculate metrics for each group ---\n",
    "    summary = full_df.groupby(['task_name', 'model_name']).apply(lambda x: pd.Series({\n",
    "        'accuracy': accuracy_score(x['true_label'], x['llm_prediction']),\n",
    "        'f1_score_weighted': f1_score(x['true_label'], x['llm_prediction'], average='weighted', zero_division=0)\n",
    "    })).reset_index()\n",
    "\n",
    "    # --- Display Summary Tables ---\n",
    "    print(\"\\n\\n--- 🚀 Final Performance Summary (Weighted F1-Score) ---\")\n",
    "    summary_pivot_f1 = summary.pivot(index='task_name', columns='model_name', values='f1_score_weighted')\n",
    "    print(summary_pivot_f1.to_markdown(floatfmt=\".4f\"))\n",
    "\n",
    "    print(\"\\n\\n--- 🚀 Final Performance Summary (Accuracy) ---\")\n",
    "    summary_pivot_acc = summary.pivot(index='task_name', columns='model_name', values='accuracy')\n",
    "    print(summary_pivot_acc.to_markdown(floatfmt=\".4f\"))\n",
    "    \n",
    "    # --- Display Visualization 1: F1-Score ---\n",
    "    summary_pivot_f1.plot(kind='bar', figsize=(15, 8), width=0.8)\n",
    "    plt.title('Model F1-Score (Weighted) Comparison Across All Tasks', fontsize=16)\n",
    "    plt.ylabel('F1-Score (Weighted)', fontsize=12)\n",
    "    plt.xlabel('Task Name', fontsize=12)\n",
    "    plt.xticks(rotation=45, ha='right')\n",
    "    plt.legend(title='Model')\n",
    "    plt.grid(axis='y', linestyle='--')\n",
    "    plt.tight_layout()\n",
    "    plt.show() # Show the first plot\n",
    "\n",
    "    # --- START: New Plot for Accuracy ---\n",
    "    \n",
    "    # --- Display Visualization 2: Accuracy ---\n",
    "    summary_pivot_acc.plot(kind='bar', figsize=(15, 8), width=0.8)\n",
    "    plt.title('Model Accuracy Comparison Across All Tasks', fontsize=16)\n",
    "    plt.ylabel('Accuracy', fontsize=12)\n",
    "    plt.xlabel('Task Name', fontsize=12)\n",
    "    plt.xticks(rotation=45, ha='right')\n",
    "    plt.legend(title='Model')\n",
    "    plt.grid(axis='y', linestyle='--')\n",
    "    plt.tight_layout()\n",
    "    plt.show() # Show the second plot\n",
    "    \n",
    "    # --- END: New Plot for Accuracy ---"
   ]
  }
 ],
 "metadata": {
  "kernelspec": {
   "display_name": "Python (healthfood_env)",
   "language": "python",
   "name": "healthfood_env"
  },
  "language_info": {
   "codemirror_mode": {
    "name": "ipython",
    "version": 3
   },
   "file_extension": ".py",
   "mimetype": "text/x-python",
   "name": "python",
   "nbconvert_exporter": "python",
   "pygments_lexer": "ipython3",
   "version": "3.13.2"
  }
 },
 "nbformat": 4,
 "nbformat_minor": 5
}
