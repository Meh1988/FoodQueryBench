{
 "cells": [
  {
   "cell_type": "markdown",
   "id": "b335c453",
   "metadata": {},
   "source": [
    "# LLM Evaluation for Pairwise Choice Task\n",
    "\n",
    "This notebook implements the evaluation pipeline for the `task_2_pairwise_preference` dataset. This task tests the LLM's ability to choose between two recipes (\"Recipe A\" and \"Recipe B\") based on a user's history.\n",
    "\n",
    "We are using the `_shuffled.json` version of the file, which has been pre-processed to fix a 100% \"Recipe A\" bias, ensuring a fair and balanced evaluation.\n",
    "\n",
    "The process is:\n",
    "1.  **Setup**: Install libraries and initialize the OpenAI API client.\n",
    "2.  **Helper Functions**: Define the core functions for API calls and result-saving.\n",
    "3.  **Task Evaluation**: Run the full evaluation, using a `label_map` to parse the `instruction_output` correctly.\n",
    "4.  **Final Analysis**: Analyze and report the final Accuracy and F1-Score for each model."
   ]
  },
  {
   "cell_type": "markdown",
   "id": "45916be9",
   "metadata": {},
   "source": [
    "### 1. Environment Setup"
   ]
  },
  {
   "cell_type": "code",
   "execution_count": 1,
   "id": "bab7a7e7",
   "metadata": {},
   "outputs": [],
   "source": [
    "#%pip install openai python-dotenv scikit-learn matplotlib tqdm pandas"
   ]
  },
  {
   "cell_type": "markdown",
   "id": "5dfd97d5",
   "metadata": {},
   "source": [
    "### 2. Imports, API Initialization, and Constants"
   ]
  },
  {
   "cell_type": "code",
   "execution_count": 4,
   "id": "ed155098",
   "metadata": {},
   "outputs": [],
   "source": [
    "import json\n",
    "import os\n",
    "import time\n",
    "import random\n",
    "from openai import OpenAI\n",
    "from dotenv import load_dotenv\n",
    "from sklearn.metrics import classification_report, f1_score, accuracy_score, confusion_matrix\n",
    "import matplotlib.pyplot as plt\n",
    "import seaborn as sns\n",
    "from tqdm.notebook import tqdm\n",
    "import pandas as pd\n",
    "\n",
    "# --- API and Model Configuration ---\n",
    "load_dotenv()\n",
    "client = OpenAI(api_key=os.getenv(\"OPENAI_API_KEY\"))\n",
    "\n",
    "# The models we will compare\n",
    "MODELS_TO_TEST = [\"gpt-3.5-turbo\", \"gpt-4o\"]\n",
    "\n",
    "# The JSON instruction for the prompt\n",
    "JSON_INSTRUCTION = (\n",
    "    \"Your response MUST be a JSON object with a single key 'prediction' \"\n",
    "    \"whose value is one of the following exact strings: {labels}.\"\n",
    ")\n",
    "\n",
    "# Ensure a directory for results exists\n",
    "os.makedirs('results', exist_ok=True)"
   ]
  },
  {
   "cell_type": "markdown",
   "id": "249962d8",
   "metadata": {},
   "source": [
    "### 3. Core Helper Functions"
   ]
  },
  {
   "cell_type": "code",
   "execution_count": 5,
   "id": "01093969",
   "metadata": {},
   "outputs": [],
   "source": [
    "def load_json_file(file_path):\n",
    "    \"\"\"Loads a JSON file safely.\"\"\"\n",
    "    try:\n",
    "        with open(file_path, 'r', encoding='utf-8') as f:\n",
    "            return json.load(f)\n",
    "    except FileNotFoundError:\n",
    "        print(f\"Error: The file '{file_path}' was not found.\")\n",
    "        return None\n",
    "\n",
    "def save_results(results, file_path):\n",
    "    \"\"\"Saves a list of dictionaries to a JSON file.\"\"\"\n",
    "    with open(file_path, 'w', encoding='utf-8') as f:\n",
    "        json.dump(results, f, indent=2)\n",
    "    print(f\"Successfully saved {len(results)} results to {file_path}\")\n",
    "\n",
    "def get_prompt(instruction_input, valid_labels):\n",
    "    \"\"\"Builds the single, simple prompt for the LLM.\"\"\"\n",
    "    labels_str = str(valid_labels)\n",
    "    return f\"{instruction_input}\\n\\n{JSON_INSTRUCTION.format(labels=labels_str)}\"\n",
    "\n",
    "def get_llm_prediction(client, model_name, prompt):\n",
    "    \"\"\"Calls the correct API endpoint based on the model and gets a prediction.\"\"\"\n",
    "    retries = 3\n",
    "    delay = 5  # Start with a 5-second delay for robustness\n",
    "\n",
    "    for attempt in range(retries):\n",
    "        try:\n",
    "            content = None\n",
    "            if model_name == \"gpt-5-pro\":\n",
    "                # Use the older Completions API for this model\n",
    "                response = client.completions.create(\n",
    "                    model=model_name,\n",
    "                    prompt=prompt,\n",
    "                    max_tokens=150,\n",
    "                    temperature=0\n",
    "                )\n",
    "                content = response.choices[0].text\n",
    "            else:\n",
    "                # Use the modern Chat Completions API for other models\n",
    "                response = client.chat.completions.create(\n",
    "                    model=model_name,\n",
    "                    messages=[{\"role\": \"user\", \"content\": prompt}],\n",
    "                    response_format={\"type\": \"json_object\"},\n",
    "                    temperature=0\n",
    "                )\n",
    "                content = response.choices[0].message.content\n",
    "            \n",
    "            # Parse the content to extract the prediction\n",
    "            json_start_index = content.find('{')\n",
    "            if json_start_index == -1:\n",
    "                return \"parsing_error\"\n",
    "            \n",
    "            json_content = content[json_start_index:]\n",
    "            prediction_json = json.loads(json_content)\n",
    "            return prediction_json.get(\"prediction\", \"parsing_error\")\n",
    "        \n",
    "        except Exception as e:\n",
    "            print(f\"API Error ({model_name}): {e}. Retrying... (Attempt {attempt + 1}/{retries})\")\n",
    "            time.sleep(delay)\n",
    "            delay *= 2  # Exponential backoff\n",
    "            \n",
    "    return \"api_error\" # Failed after all retries\n",
    "\n",
    "def run_evaluation(client, data_file_path, valid_labels, unique_id_keys, sample_count=None, label_map=None):\n",
    "    \"\"\"\n",
    "    Runs the full evaluation pipeline for a single data file.\n",
    "    - sample_count: If provided, runs on a random sample of this many instructions.\n",
    "    - label_map: An optional dictionary to map messy instruction_outputs to clean labels.\n",
    "    \"\"\"\n",
    "    \n",
    "    task_name = os.path.basename(data_file_path).split('.')[0]\n",
    "    results_path = f\"results/results_{task_name}.json\"\n",
    "    \n",
    "    print(f\"\\n{'='*20} Starting Evaluation for: {task_name} {'='*20}\")\n",
    "    \n",
    "    # --- Load all instructions from the data file ---\n",
    "    all_instructions = load_json_file(data_file_path)\n",
    "    if not all_instructions:\n",
    "        return\n",
    "\n",
    "    # --- Sampling Logic ---\n",
    "    instructions = all_instructions\n",
    "    if sample_count:\n",
    "        actual_sample_count = min(sample_count, len(all_instructions))\n",
    "        random.seed(42)\n",
    "        instructions = random.sample(all_instructions, actual_sample_count)\n",
    "        print(f\"Original dataset size: {len(all_instructions)}. Using a random sample of {len(instructions)} instructions.\")\n",
    "    else:\n",
    "        print(f\"Using the full dataset of {len(instructions)} instructions.\")\n",
    "\n",
    "    # --- Load existing results (for resuming) ---\n",
    "    all_results = []\n",
    "    processed_keys = set()\n",
    "    if os.path.exists(results_path):\n",
    "        all_results = load_json_file(results_path)\n",
    "        for res in all_results:\n",
    "            key_tuple = (res['model_name'],) + tuple(res[k] for k in unique_id_keys)\n",
    "            processed_keys.add(key_tuple)\n",
    "        print(f\"Loaded {len(all_results)} existing results. Resuming...\")\n",
    "\n",
    "    api_calls_made = 0\n",
    "\n",
    "    # --- Main evaluation loop ---\n",
    "    for model_name in MODELS_TO_TEST:\n",
    "        print(f\"\\n--- Processing Model: {model_name} ---\")\n",
    "        \n",
    "        for instruction in tqdm(instructions, desc=f\"Model: {model_name}\"):\n",
    "            id_values = [instruction.get(k) for k in unique_id_keys]\n",
    "            current_key = (model_name,) + tuple(id_values)\n",
    "\n",
    "            if current_key in processed_keys:\n",
    "                continue\n",
    "            \n",
    "            prompt = get_prompt(instruction['instruction_input'], valid_labels)\n",
    "            prediction = get_llm_prediction(client, model_name, prompt)\n",
    "            api_calls_made += 1\n",
    "            \n",
    "            # --- Label Mapping Logic ---\n",
    "            true_label_raw = instruction['instruction_output']\n",
    "            true_label = true_label_raw # Default if no map\n",
    "            \n",
    "            if label_map:\n",
    "                mapped_label = \"Other/Unknown\" # default\n",
    "                for key_prefix, simple_label in label_map.items():\n",
    "                    if true_label_raw.startswith(key_prefix):\n",
    "                        mapped_label = simple_label\n",
    "                        break\n",
    "                true_label = mapped_label\n",
    "            # --- END Label Mapping Logic ---\n",
    "            \n",
    "            result_record = {\n",
    "                \"model_name\": model_name,\n",
    "                \"full_prompt_sent\": prompt,\n",
    "                \"llm_prediction\": prediction,\n",
    "                \"true_label\": true_label,\n",
    "                \"is_correct\": prediction == true_label,\n",
    "                \"timestamp\": time.time()\n",
    "            }\n",
    "            for key, value in zip(unique_id_keys, id_values):\n",
    "                result_record[key] = value\n",
    "                \n",
    "            all_results.append(result_record)\n",
    "            processed_keys.add(current_key)\n",
    "            \n",
    "            if len(all_results) % 100 == 0:\n",
    "                save_results(all_results, results_path)\n",
    "\n",
    "    save_results(all_results, results_path)\n",
    "    print(f\"\\nTotal new API calls made in this run: {api_calls_made}\")\n",
    "    print(f\"\\n{'='*20} Evaluation COMPLETE for: {task_name} {'='*20}\")"
   ]
  },
  {
   "cell_type": "markdown",
   "id": "9d5e0bf8",
   "metadata": {},
   "source": [
    "### 4. Evaluation: Task 2 - Pairwise Preference\n",
    "\n",
    "This task evaluates the LLM's ability to choose between \"Recipe A\" and \"Recipe B\". We are using the `_shuffled` file to ensure the data is not biased.\n",
    "\n",
    "We define `VALID_LABELS` as the clean labels we want from the LLM, and `LABEL_MAP_2` to convert the messy `instruction_output` (e.g., \"Recipe A: Turkey Nachos\") into its corresponding clean label."
   ]
  },
  {
   "cell_type": "code",
   "execution_count": 7,
   "id": "16d451f9",
   "metadata": {},
   "outputs": [
    {
     "name": "stdout",
     "output_type": "stream",
     "text": [
      "\n",
      "==================== Starting Evaluation for: task_2_pairwise_preference 3_shuffled ====================\n",
      "Original dataset size: 15924. Using a random sample of 1592 instructions.\n",
      "\n",
      "--- Processing Model: gpt-3.5-turbo ---\n"
     ]
    },
    {
     "data": {
      "application/vnd.jupyter.widget-view+json": {
       "model_id": "8ebdd92ac014462ea567afe0d4b5ecbb",
       "version_major": 2,
       "version_minor": 0
      },
      "text/plain": [
       "Model: gpt-3.5-turbo:   0%|          | 0/1592 [00:00<?, ?it/s]"
      ]
     },
     "metadata": {},
     "output_type": "display_data"
    },
    {
     "name": "stdout",
     "output_type": "stream",
     "text": [
      "Successfully saved 100 results to results/results_task_2_pairwise_preference 3_shuffled.json\n",
      "Successfully saved 200 results to results/results_task_2_pairwise_preference 3_shuffled.json\n",
      "Successfully saved 300 results to results/results_task_2_pairwise_preference 3_shuffled.json\n",
      "Successfully saved 400 results to results/results_task_2_pairwise_preference 3_shuffled.json\n",
      "Successfully saved 500 results to results/results_task_2_pairwise_preference 3_shuffled.json\n",
      "Successfully saved 600 results to results/results_task_2_pairwise_preference 3_shuffled.json\n",
      "Successfully saved 700 results to results/results_task_2_pairwise_preference 3_shuffled.json\n",
      "Successfully saved 800 results to results/results_task_2_pairwise_preference 3_shuffled.json\n",
      "Successfully saved 900 results to results/results_task_2_pairwise_preference 3_shuffled.json\n",
      "Successfully saved 1000 results to results/results_task_2_pairwise_preference 3_shuffled.json\n",
      "Successfully saved 1100 results to results/results_task_2_pairwise_preference 3_shuffled.json\n",
      "Successfully saved 1200 results to results/results_task_2_pairwise_preference 3_shuffled.json\n",
      "Successfully saved 1300 results to results/results_task_2_pairwise_preference 3_shuffled.json\n",
      "Successfully saved 1400 results to results/results_task_2_pairwise_preference 3_shuffled.json\n",
      "Successfully saved 1500 results to results/results_task_2_pairwise_preference 3_shuffled.json\n",
      "\n",
      "--- Processing Model: gpt-4o ---\n"
     ]
    },
    {
     "data": {
      "application/vnd.jupyter.widget-view+json": {
       "model_id": "bfa4ce96e9c343518d3101da2f32f938",
       "version_major": 2,
       "version_minor": 0
      },
      "text/plain": [
       "Model: gpt-4o:   0%|          | 0/1592 [00:00<?, ?it/s]"
      ]
     },
     "metadata": {},
     "output_type": "display_data"
    },
    {
     "name": "stdout",
     "output_type": "stream",
     "text": [
      "Successfully saved 1600 results to results/results_task_2_pairwise_preference 3_shuffled.json\n",
      "Successfully saved 1700 results to results/results_task_2_pairwise_preference 3_shuffled.json\n",
      "Successfully saved 1800 results to results/results_task_2_pairwise_preference 3_shuffled.json\n",
      "Successfully saved 1900 results to results/results_task_2_pairwise_preference 3_shuffled.json\n",
      "Successfully saved 2000 results to results/results_task_2_pairwise_preference 3_shuffled.json\n",
      "Successfully saved 2100 results to results/results_task_2_pairwise_preference 3_shuffled.json\n",
      "Successfully saved 2200 results to results/results_task_2_pairwise_preference 3_shuffled.json\n",
      "Successfully saved 2300 results to results/results_task_2_pairwise_preference 3_shuffled.json\n",
      "Successfully saved 2400 results to results/results_task_2_pairwise_preference 3_shuffled.json\n",
      "Successfully saved 2500 results to results/results_task_2_pairwise_preference 3_shuffled.json\n",
      "Successfully saved 2600 results to results/results_task_2_pairwise_preference 3_shuffled.json\n",
      "Successfully saved 2700 results to results/results_task_2_pairwise_preference 3_shuffled.json\n",
      "Successfully saved 2800 results to results/results_task_2_pairwise_preference 3_shuffled.json\n",
      "Successfully saved 2900 results to results/results_task_2_pairwise_preference 3_shuffled.json\n",
      "Successfully saved 3000 results to results/results_task_2_pairwise_preference 3_shuffled.json\n",
      "API Error (gpt-4o): Error code: 429 - {'error': {'message': 'Rate limit reached for gpt-4o in organization org-WiF4m5Qn2ic6ezm9tX6qM20n on tokens per min (TPM): Limit 30000, Used 30000, Requested 393. Please try again in 786ms. Visit https://platform.openai.com/account/rate-limits to learn more.', 'type': 'tokens', 'param': None, 'code': 'rate_limit_exceeded'}}. Retrying... (Attempt 1/3)\n",
      "Successfully saved 3100 results to results/results_task_2_pairwise_preference 3_shuffled.json\n",
      "Successfully saved 3184 results to results/results_task_2_pairwise_preference 3_shuffled.json\n",
      "\n",
      "Total new API calls made in this run: 3184\n",
      "\n",
      "==================== Evaluation COMPLETE for: task_2_pairwise_preference 3_shuffled ====================\n"
     ]
    }
   ],
   "source": [
    "DATA_FILE_PATH_2 = 'data/task_2_pairwise_preference 3_shuffled.json'\n",
    "VALID_LABELS_2 = [\"Recipe A\", \"Recipe B\"]\n",
    "# This map converts the *messy* instruction_output into our clean labels\n",
    "LABEL_MAP_2 = {\n",
    "    \"Recipe A\": \"Recipe A\",\n",
    "    \"Recipe B\": \"Recipe B\"\n",
    "}\n",
    " \n",
    "UNIQUE_ID_KEYS_2 = ['user_id', 'target_recipe_id']\n",
    "\n",
    "sample_percentage = 0.1\n",
    "sample_count = int(sample_percentage * 15924)\n",
    "\n",
    "# --- Run Evaluation on a sample of 1000 ---\n",
    "run_evaluation(client, DATA_FILE_PATH_2, VALID_LABELS_2, UNIQUE_ID_KEYS_2, sample_count, label_map=LABEL_MAP_2)"
   ]
  },
  {
   "cell_type": "markdown",
   "id": "5d4ffc8f",
   "metadata": {},
   "source": [
    "### 5. Final Analysis\n",
    "\n",
    "This cell loads the `results_task_2...json` file and calculates the final metrics. For a 2-class (binary) problem, **Accuracy is the most important and interpretable metric.**\n",
    "\n",
    "We will also show:\n",
    "* **F1-Score (Weighted):** Still useful, but for a balanced binary case, it will be very close to the accuracy.\n",
    "* **Confusion Matrix:** This will show us exactly what kind of mistakes the models are making (e.g., did they mistakenly choose 'B' when 'A' was correct?)."
   ]
  },
  {
   "cell_type": "code",
   "execution_count": 8,
   "id": "3fb077ca",
   "metadata": {},
   "outputs": [
    {
     "name": "stdout",
     "output_type": "stream",
     "text": [
      "Loaded a total of 3184 predictions.\n",
      "\n",
      "\n",
      "--- 🚀 Final Performance Summary ---\n",
      "| model_name    |   accuracy |   f1_score_weighted |\n",
      "|:--------------|-----------:|--------------------:|\n",
      "| gpt-3.5-turbo |     0.7902 |              0.7899 |\n",
      "| gpt-4o        |     0.8417 |              0.8417 |\n"
     ]
    },
    {
     "name": "stderr",
     "output_type": "stream",
     "text": [
      "C:\\Users\\amollaza24\\AppData\\Local\\Temp\\ipykernel_14940\\1251977257.py:13: FutureWarning: DataFrameGroupBy.apply operated on the grouping columns. This behavior is deprecated, and in a future version of pandas the grouping columns will be excluded from the operation. Either pass `include_groups=False` to exclude the groupings or explicitly select the grouping columns after groupby to silence this warning.\n",
      "  summary = full_df.groupby('model_name').apply(lambda x: pd.Series({\n"
     ]
    },
    {
     "data": {
      "image/png": "[encoded data removed]",
      "text/plain": [
       "<Figure size 800x600 with 2 Axes>"
      ]
     },
     "metadata": {},
     "output_type": "display_data"
    },
    {
     "data": {
      "image/png": "[encoded data removed]",
      "text/plain": [
       "<Figure size 800x600 with 2 Axes>"
      ]
     },
     "metadata": {},
     "output_type": "display_data"
    }
   ],
   "source": [
    "# --- Load the result file ---\n",
    "results_dir = 'results'\n",
    "task_2_results_file = 'results_task_2_pairwise_preference 3_shuffled.json'\n",
    "results_path = os.path.join(results_dir, task_2_results_file)\n",
    "\n",
    "if not os.path.exists(results_path):\n",
    "    print(\"No result file found. Please run the evaluation cell first.\")\n",
    "else:\n",
    "    full_df = pd.read_json(results_path)\n",
    "    print(f\"Loaded a total of {len(full_df)} predictions.\")\n",
    "\n",
    "    # --- Calculate metrics for each model ---\n",
    "    summary = full_df.groupby('model_name').apply(lambda x: pd.Series({\n",
    "        'accuracy': accuracy_score(x['true_label'], x['llm_prediction']),\n",
    "        'f1_score_weighted': f1_score(x['true_label'], x['llm_prediction'], average='weighted', zero_division=0)\n",
    "    })).reset_index()\n",
    "\n",
    "    # --- Display Summary Tables ---\n",
    "    print(\"\\n\\n--- 🚀 Final Performance Summary ---\")\n",
    "    print(summary.to_markdown(index=False, floatfmt=\".4f\"))\n",
    "    \n",
    "    # --- Display Confusion Matrices ---\n",
    "    models = full_df['model_name'].unique()\n",
    "    for model in models:\n",
    "        model_df = full_df[full_df['model_name'] == model]\n",
    "        y_true = model_df['true_label']\n",
    "        y_pred = model_df['llm_prediction']\n",
    "        \n",
    "        cm = confusion_matrix(y_true, y_pred, labels=VALID_LABELS_2)\n",
    "        \n",
    "        plt.figure(figsize=(8, 6))\n",
    "        sns.heatmap(cm, annot=True, fmt='d', cmap='Blues', \n",
    "                    xticklabels=VALID_LABELS_2, yticklabels=VALID_LABELS_2)\n",
    "        plt.title(f'Confusion Matrix for {model}', fontsize=16)\n",
    "        plt.ylabel('True Label', fontsize=12)\n",
    "        plt.xlabel('Predicted Label', fontsize=12)\n",
    "        plt.show()"
   ]
  }
 ],
 "metadata": {
  "kernelspec": {
   "display_name": "Python (healthfood_env)",
   "language": "python",
   "name": "healthfood_env"
  },
  "language_info": {
   "codemirror_mode": {
    "name": "ipython",
    "version": 3
   },
   "file_extension": ".py",
   "mimetype": "text/x-python",
   "name": "python",
   "nbconvert_exporter": "python",
   "pygments_lexer": "ipython3",
   "version": "3.13.2"
  }
 },
 "nbformat": 4,
 "nbformat_minor": 5
}
